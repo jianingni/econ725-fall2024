{
 "cells": [
  {
   "cell_type": "markdown",
   "metadata": {},
   "source": [
    "# <center>ECON 725: Computer Programming and Data Management in Economics <a class=\"tocSkip\"></center>    \n",
    "# <center>In-class Assessment #3: Introduction to Machine Learning <a class=\"tocSkip\"></center>"
   ]
  },
  {
   "cell_type": "markdown",
   "metadata": {},
   "source": [
    "## In-class Assessment <a class=\"tocSkip\">\n",
    "<hr>\n",
    "\n",
    "Name: FirstName LastName <br>"
   ]
  },
  {
   "cell_type": "markdown",
   "metadata": {},
   "source": [
    "### Exercise\n",
    "\n",
    "In this assessment, we are going to explore the first step in any data science/machine learning project: Exploratory Data Analysis (EDA). We will use the `titanic` dataset, which is a classic dataset in the machine learning community. The goal is to predict whether a passenger survived the Titanic shipwreck or not. For this, you will use the dataset provided in the `train.csv` file.\n",
    "\n",
    "These are the columns in the dataset:\n",
    "* PassengerId: A unique identifier for each passenger.\n",
    "* Survived: Whether the passenger survived (1) or not (0).\n",
    "* Pclass: The class of the ticket the passenger purchased (1, 2 or 3).\n",
    "* Name: The name\n",
    "* Sex: Male or Female\n",
    "* Age: The age of the passenger\n",
    "* SibSp: The number of siblings/spouses the passenger has aboard the Titanic.\n",
    "* Parch: The number of parents/children the passenger has aboard the Titanic.\n",
    "* Ticket: The ticket number\n",
    "* Fare: The amount the passenger paid for the ticket.\n",
    "* Cabin: The cabin number\n",
    "* Embarked: The port where the passenger embarked (C = Cherbourg, Q = Queenstown, S = Southampton)\n",
    "\n",
    "In every question, you have to provide evidence to support your answer. You can use tables, plots, or any other method you find appropriate, unless otherwise stated."
   ]
  },
  {
   "cell_type": "markdown",
   "metadata": {},
   "source": [
    "1) Between men and women, who survives more? Create a count plot to see how the distribution of Survival changes between men and women. Hint: Just focus on variables `Sex` and `Survived`."
   ]
  },
  {
   "cell_type": "code",
   "execution_count": null,
   "metadata": {},
   "outputs": [],
   "source": [
    "# Your code here"
   ]
  },
  {
   "cell_type": "markdown",
   "metadata": {},
   "source": [
    "2. Is there any difference in the probability of survival by the type of class in which passengers travel? Who has a higher chance of surviving, first-class or third-class passengers? Create a graph to support your answer. Hint: Just focus on variables `Pclass` and `Survived`."
   ]
  },
  {
   "cell_type": "code",
   "execution_count": null,
   "metadata": {},
   "outputs": [],
   "source": [
    "# Your code here"
   ]
  },
  {
   "cell_type": "markdown",
   "metadata": {},
   "source": [
    "3. Now let's combine the findings from the previous two questions. Is there any difference in the probability that women have according to the class they belong to? What about men? Support your answer with a single graph. Hint: Just focus on variables `Pclass`, `Sex`, and `Survived`."
   ]
  },
  {
   "cell_type": "code",
   "execution_count": null,
   "metadata": {},
   "outputs": [],
   "source": [
    "# Your code here"
   ]
  },
  {
   "cell_type": "markdown",
   "metadata": {},
   "source": [
    "4. What is the average age of passengers who survived and those who did not? Create a plot to support your answer. Hint: Just focus on variables `Age` and `Survived`."
   ]
  },
  {
   "cell_type": "code",
   "execution_count": null,
   "metadata": {},
   "outputs": [],
   "source": [
    "# Your code here"
   ]
  },
  {
   "cell_type": "markdown",
   "metadata": {},
   "source": [
    "5. Calculate the age of the oldest and youngest passenger on board."
   ]
  },
  {
   "cell_type": "code",
   "execution_count": null,
   "metadata": {},
   "outputs": [],
   "source": [
    "# Your code here"
   ]
  },
  {
   "cell_type": "markdown",
   "metadata": {},
   "source": [
    "6. Do you think the port where passengers boarded influences the probability of survival? In a graph, show how many passengers survived according to the boarding port. Which port had the highest number of survivors?"
   ]
  },
  {
   "cell_type": "code",
   "execution_count": null,
   "metadata": {},
   "outputs": [],
   "source": [
    "# Your code here"
   ]
  },
  {
   "cell_type": "markdown",
   "metadata": {},
   "source": [
    "7. Up to this point, we surely have a clear idea of which variables could be predictors of the ability to survive the sinking of the Titanic. With this information, we can write a simple Rule-based system to predict whether a passenger survives or not. Create a function which, based on a rule or set of rules, determines (\"predicts\") if a passenger will survive or not. For example: Suppose my rule is that all passengers with age > 80 years do not survive. Then my rule would be: if Age > 80, Prediction = 0\n",
    "\n",
    "Your rule or set of rules should use the variables `Sex`, `Pclass`, `Age`, `Embarked`. The function should take the entire dataset as an argument and return another DataFrame with an additional column called `my_prediction` that has values 0 or 1 according to the rules."
   ]
  },
  {
   "cell_type": "code",
   "execution_count": null,
   "metadata": {},
   "outputs": [],
   "source": [
    "# Your code here\n",
    "def predict_survival(df):\n",
    "    # Initialize the prediction column with 0\n",
    "    df['my_prediction'] = 0\n",
    "    \n",
    "    # Apply rules\n",
    "    # ...\n",
    "    \n",
    "    return df"
   ]
  },
  {
   "cell_type": "markdown",
   "metadata": {},
   "source": [
    "8. Can you manually compute the accuracy of your rule-based system, taking into account that you know the true values? That is, how many passengers did your rule-based system correctly predict?"
   ]
  },
  {
   "cell_type": "code",
   "execution_count": null,
   "metadata": {},
   "outputs": [],
   "source": [
    "# Your code here\n",
    "correct_predictions = (df_with_predictions['my_prediction'] == df_with_predictions['Survived']).sum()\n",
    "total_predictions = ... # number of rows in df_with_predictions\n",
    "accuracy = ... # How many predictions were correct / total number of predictions"
   ]
  },
  {
   "cell_type": "markdown",
   "metadata": {},
   "source": [
    "# <center>Have fun!<a class=\"tocSkip\"></center>"
   ]
  }
 ],
 "metadata": {
  "kernelspec": {
   "display_name": "causal_ml_python",
   "language": "python",
   "name": "python3"
  },
  "language_info": {
   "name": "python",
   "version": "3.10.13"
  }
 },
 "nbformat": 4,
 "nbformat_minor": 2
}
