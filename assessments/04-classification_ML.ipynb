{
 "cells": [
  {
   "cell_type": "markdown",
   "metadata": {},
   "source": [
    "# <center>ECON 725: Computer Programming and Data Management in Economics <a class=\"tocSkip\"></center>    \n",
    "# <center>In-class Assessment #4: Introduction to Machine Learning: Classification <a class=\"tocSkip\"></center>"
   ]
  },
  {
   "cell_type": "markdown",
   "metadata": {},
   "source": [
    "## In-class Assessment <a class=\"tocSkip\">\n",
    "<hr>\n",
    "\n",
    "Name: FirstName LastName <br>"
   ]
  },
  {
   "cell_type": "markdown",
   "metadata": {},
   "source": [
    "### Exercise\n",
    "\n",
    "In this assessment, we are going to continue exploring the `titanic` dataset, which is a classic dataset in the machine learning community. The goal is to predict whether a passenger survived the Titanic shipwreck or not. For this, you will use the dataset provided in the `train.csv` file. Then, you have to evaluate what is the performance of your models based on `predict.csv` file.\n",
    "\n",
    "Let's recall the columns in the dataset:\n",
    "* PassengerId: A unique identifier for each passenger.\n",
    "* Survived: Whether the passenger survived (1) or not (0).\n",
    "* Pclass: The class of the ticket the passenger purchased (1, 2 or 3).\n",
    "* Name: The name\n",
    "* Sex: Male or Female\n",
    "* Age: The age of the passenger\n",
    "* SibSp: The number of siblings/spouses the passenger has aboard the Titanic.\n",
    "* Parch: The number of parents/children the passenger has aboard the Titanic.\n",
    "* Ticket: The ticket number\n",
    "* Fare: The amount the passenger paid for the ticket.\n",
    "* Cabin: The cabin number\n",
    "* Embarked: The port where the passenger embarked (C = Cherbourg, Q = Queenstown, S = Southampton)\n",
    "\n"
   ]
  },
  {
   "cell_type": "markdown",
   "metadata": {},
   "source": [
    "1) Load the two datasets provided as dataframes and call them `train_df` and `predict_df`, respectively."
   ]
  },
  {
   "cell_type": "code",
   "execution_count": null,
   "metadata": {},
   "outputs": [],
   "source": [
    "# Your code here"
   ]
  },
  {
   "cell_type": "markdown",
   "metadata": {},
   "source": [
    "2.\tBoth datasets contain missing values. Identify which columns have missing values in `train_df` and `predict_df`, the number of missing observations in each column, and the percentage these represent relative to the total number of observations. Hint: For example, Cabin has 500 missing observations, representing 55% of the total observations. Make a plot that support your statements.\n"
   ]
  },
  {
   "cell_type": "code",
   "execution_count": null,
   "metadata": {},
   "outputs": [],
   "source": [
    "# Your code here"
   ]
  },
  {
   "cell_type": "markdown",
   "metadata": {},
   "source": [
    "3.\tBased on the previous question, you may have identified three columns with missing values: `Embarked`, `Age`, and `Cabin` in `train_df`, and `Cabin`, `Age`, and `Fare` in `predict_df`. Let’s address the missing values in each column as follows:\n",
    "\n",
    "\ta. Impute the mode of Embarked for each missing value.\n",
    "\n",
    "\tb. Impute the median of Fare for each missing value.\n",
    "\n",
    "\tc. Drop the Cabin column from both datasets.\n",
    "\n",
    "\td. Impute the median of Age for each missing value.\n"
   ]
  },
  {
   "cell_type": "code",
   "execution_count": null,
   "metadata": {},
   "outputs": [],
   "source": [
    "# Your code here"
   ]
  },
  {
   "cell_type": "markdown",
   "metadata": {},
   "source": [
    "4.\tNow let’s perform some feature engineering. Age is a continuous variable that may not be directly informative. Instead, we can classify individuals into age groups: “Children,” “Teenage,” “Adult,” and “Elder.” Use your own criteria and the data to determine the age ranges that define each group. Apply this classification to both datasets. Name this column as `Age_bin`.\n"
   ]
  },
  {
   "cell_type": "code",
   "execution_count": null,
   "metadata": {},
   "outputs": [],
   "source": [
    "# Your code here"
   ]
  },
  {
   "cell_type": "markdown",
   "metadata": {},
   "source": [
    "5.\tSimilarly, let’s categorize Fare by grouping individuals into fare groups: “Low fare,” “Median fare,” “Average fare,” and “High fare.” Use your criteria and the data to define the fare ranges for each group. Name this column as `Fare_bin`.\n"
   ]
  },
  {
   "cell_type": "code",
   "execution_count": null,
   "metadata": {},
   "outputs": [],
   "source": [
    "# Your code here"
   ]
  },
  {
   "cell_type": "markdown",
   "metadata": {},
   "source": [
    "6.\tApply one-hot encoding (i.e., create dummy variables for each category) for the following categorical variables: `Sex`, `Age_bin`, `Embarked`, and `Fare_bin`."
   ]
  },
  {
   "cell_type": "code",
   "execution_count": null,
   "metadata": {},
   "outputs": [],
   "source": [
    "# Your code here"
   ]
  },
  {
   "cell_type": "markdown",
   "metadata": {},
   "source": [
    "7.\tPlot a correlation matrix of the numerical features to identify which ones might be strong predictors for your model. From this analysis and from your previous EDA (Assessment 03), you should have an idea about the variables that can predict is a person will survive or not. Hint: Remember, the job of the data scientist/ researcher is to determine which are the variables that we are going to introduce to the model.\n"
   ]
  },
  {
   "cell_type": "code",
   "execution_count": null,
   "metadata": {},
   "outputs": [],
   "source": [
    "# Your code here"
   ]
  },
  {
   "cell_type": "markdown",
   "metadata": {},
   "source": [
    "8.\tTrain a Logistic Regression model on `train_df`, using 80% of the dataset for training and 20% for validation. On the validation set, calculate the model’s accuracy, recall, and precision. Plot a confusion matrix to support your results."
   ]
  },
  {
   "cell_type": "code",
   "execution_count": null,
   "metadata": {},
   "outputs": [],
   "source": [
    "# Your code here"
   ]
  },
  {
   "cell_type": "markdown",
   "metadata": {},
   "source": [
    "9.\tRepeat the process from step 8, but this time using a Random Forest Classifier. Compare the results to determine which algorithm performs better."
   ]
  },
  {
   "cell_type": "code",
   "execution_count": null,
   "metadata": {},
   "outputs": [],
   "source": [
    "# Your code here"
   ]
  },
  {
   "cell_type": "markdown",
   "metadata": {},
   "source": [
    "10.\tBased on your conclusion about which algorithm performs better in this context, use the selected model to make predictions on `predict_df`."
   ]
  },
  {
   "cell_type": "code",
   "execution_count": null,
   "metadata": {},
   "outputs": [],
   "source": [
    "# Your code here"
   ]
  },
  {
   "cell_type": "markdown",
   "metadata": {},
   "source": [
    "# <center>Have fun!<a class=\"tocSkip\"></center>"
   ]
  }
 ],
 "metadata": {
  "kernelspec": {
   "display_name": "causal_ml_python",
   "language": "python",
   "name": "python3"
  },
  "language_info": {
   "name": "python",
   "version": "3.10.13"
  }
 },
 "nbformat": 4,
 "nbformat_minor": 2
}
