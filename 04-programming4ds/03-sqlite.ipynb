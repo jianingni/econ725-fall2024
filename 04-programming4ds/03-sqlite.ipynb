{
 "cells": [
  {
   "cell_type": "markdown",
   "metadata": {},
   "source": [
    "# <center>ECON 725: Computer Programming and Data Management in Economics <a class=\"tocSkip\"></center>    \n",
    "# <center>Python - Introduction to SQLite  <a class=\"tocSkip\"></center>"
   ]
  },
  {
   "cell_type": "markdown",
   "metadata": {},
   "source": [
    "## Learning Objectives\n",
    "<hr>\n",
    "\n",
    "- Understand the basics of SQL Lite\n",
    "- Learn how to connect to a SQL Lite database\n",
    "- Learn how to create tables in a SQL Lite database\n",
    "- Learn how to insert data into a SQL Lite database\n",
    "- Learn how to query data from a SQL Lite database\n",
    "- Learn how to update data in a SQL Lite database\n",
    "- Learn how to delete data from a SQL Lite database\n"
   ]
  },
  {
   "cell_type": "markdown",
   "metadata": {},
   "source": [
    "## Introduction\n",
    "<hr>\n",
    "\n",
    "When you load a CSV file in Python and assign it to a variable, it consumes your computer's memory. Accessing data from a SQL database is more efficient and enables you to import only the necessary portions of the data.\n",
    "\n",
    "In this lesson, we will explore some methods to achieve this. This is our first introduction to SQL databases. We will use the SQLite database, which is a lightweight database that is easy to set up and use. SQLite is a self-contained, serverless, zero-configuration, transactional SQL database engine. It is the most widely deployed database in the world with applications in many devices and operating systems.\n",
    "\n",
    "### What is SQL?\n",
    "SQL stands for Structured Query Language. It is a standard language for storing, manipulating, and retrieving data in databases. SQL is used to communicate with a database. According to ANSI (American National Standards Institute), it is the standard language for relational database management systems. SQL statements are used to perform tasks such as update data on a database, or retrieve data from a database. This is our first introduction to SQL databases. We are going to explore more about this topic throughout the course as we progress.\n",
    "\n",
    "### The sqlite3 module\n",
    "The [sqlite3](https://docs.python.org/3/library/sqlite3.html) module provides a straightforward interface for interacting with SQLite databases. A connection object is created using `sqlite3.connect()`; the connection must be closed at the end of the session with the `.close()` command. While the connection is open, any interactions with the database require you to make a cursor object with the `.cursor()` command. The cursor is then ready to perform all kinds of operations with `.execute()`."
   ]
  },
  {
   "cell_type": "code",
   "execution_count": 1,
   "metadata": {},
   "outputs": [],
   "source": [
    "import sqlite3\n",
    "import pandas as pd"
   ]
  },
  {
   "cell_type": "code",
   "execution_count": 2,
   "metadata": {},
   "outputs": [],
   "source": [
    "# create empty database\n",
    "connection = sqlite3.connect(\"gta.db\")\n",
    "# communicate with the database\n",
    "cursor = connection.cursor()"
   ]
  },
  {
   "cell_type": "code",
   "execution_count": 3,
   "metadata": {},
   "outputs": [],
   "source": [
    "# data to be inserted into the database\n",
    "release_list = [\n",
    "    (1997, \"Grand Theft Auto\", \"state of New Guernsey\"),\n",
    "    (1999, \"Grand Theft Auto 2\", \"Anywhere, USA\"),\n",
    "    (2001, \"Grand Theft Auto III\", \"Liberty City\"),\n",
    "    (2002, \"Grand Theft Auto: Vice City\", \"Vice City\"),\n",
    "    (2004, \"Grand Theft Auto: San Andreas\", \"state of San Andreas\"),\n",
    "    (2008, \"Grand Theft Auto IV\", \"Liberty City\"),\n",
    "    (2013, \"Grand Theft Auto V\", \"Los Santos\")\n",
    "]"
   ]
  },
  {
   "cell_type": "code",
   "execution_count": 4,
   "metadata": {},
   "outputs": [],
   "source": [
    "city_list = [\n",
    "    (\"Liberty City\", \"New York\"),\n",
    "    (\"state of New Guernsey\", \"state of New Jersey\"),\n",
    "    (\"Anywhere, USA\", \"all USA cities\"),\n",
    "    (\"Vice City\", \"Miami\"),\n",
    "    (\"state of San Andreas\", \"state of California\"),\n",
    "    (\"Los Santos\", \"Los Angeles\")\n",
    "]"
   ]
  },
  {
   "cell_type": "code",
   "execution_count": 5,
   "metadata": {},
   "outputs": [
    {
     "ename": "OperationalError",
     "evalue": "table gta already exists",
     "output_type": "error",
     "traceback": [
      "\u001b[0;31m---------------------------------------------------------------------------\u001b[0m",
      "\u001b[0;31mOperationalError\u001b[0m                          Traceback (most recent call last)",
      "Cell \u001b[0;32mIn[5], line 2\u001b[0m\n\u001b[1;32m      1\u001b[0m \u001b[38;5;66;03m# create database table and populate it with release_list\u001b[39;00m\n\u001b[0;32m----> 2\u001b[0m \u001b[43mcursor\u001b[49m\u001b[38;5;241;43m.\u001b[39;49m\u001b[43mexecute\u001b[49m\u001b[43m(\u001b[49m\u001b[38;5;124;43m\"\u001b[39;49m\u001b[38;5;124;43mcreate table gta (release_year integer, release_name text, city text)\u001b[39;49m\u001b[38;5;124;43m\"\u001b[39;49m\u001b[43m)\u001b[49m\n\u001b[1;32m      3\u001b[0m cursor\u001b[38;5;241m.\u001b[39mexecutemany(\u001b[38;5;124m\"\u001b[39m\u001b[38;5;124minsert into gta values (?,?,?)\u001b[39m\u001b[38;5;124m\"\u001b[39m, release_list)\n\u001b[1;32m      4\u001b[0m \u001b[38;5;66;03m# save changes immediatley\u001b[39;00m\n",
      "\u001b[0;31mOperationalError\u001b[0m: table gta already exists"
     ]
    }
   ],
   "source": [
    "# create database table and populate it with release_list\n",
    "cursor.execute(\"create table gta (release_year integer, release_name text, city text)\")\n",
    "cursor.executemany(\"insert into gta values (?,?,?)\", release_list)\n",
    "# save changes immediatley\n",
    "connection.commit()"
   ]
  },
  {
   "cell_type": "code",
   "execution_count": 7,
   "metadata": {},
   "outputs": [
    {
     "name": "stdout",
     "output_type": "stream",
     "text": [
      "(1997, 'Grand Theft Auto', 'state of New Guernsey')\n",
      "(1999, 'Grand Theft Auto 2', 'Anywhere, USA')\n",
      "(2001, 'Grand Theft Auto III', 'Liberty City')\n",
      "(2002, 'Grand Theft Auto: Vice City', 'Vice City')\n",
      "(2004, 'Grand Theft Auto: San Andreas', 'state of San Andreas')\n",
      "(2008, 'Grand Theft Auto IV', 'Liberty City')\n",
      "(2013, 'Grand Theft Auto V', 'Los Santos')\n"
     ]
    }
   ],
   "source": [
    "# print all the rows from the gta table\n",
    "for row in cursor.execute(\"select * from gta\"):\n",
    "    print(row)"
   ]
  },
  {
   "cell_type": "code",
   "execution_count": 8,
   "metadata": {},
   "outputs": [
    {
     "name": "stdout",
     "output_type": "stream",
     "text": [
      "******************************\n",
      "[(2001, 'Grand Theft Auto III', 'Liberty City'), (2008, 'Grand Theft Auto IV', 'Liberty City')]\n"
     ]
    }
   ],
   "source": [
    "# print specific rows from the gta table\n",
    "print(\"******************************\")\n",
    "cursor.execute(\"select * from gta where city=:c\", {\"c\": \"Liberty City\"})\n",
    "gta_search = cursor.fetchall()\n",
    "print(gta_search)"
   ]
  },
  {
   "cell_type": "code",
   "execution_count": 9,
   "metadata": {},
   "outputs": [
    {
     "data": {
      "text/plain": [
       "list"
      ]
     },
     "execution_count": 9,
     "metadata": {},
     "output_type": "execute_result"
    }
   ],
   "source": [
    "type(gta_search)"
   ]
  },
  {
   "cell_type": "code",
   "execution_count": 10,
   "metadata": {},
   "outputs": [
    {
     "name": "stdout",
     "output_type": "stream",
     "text": [
      "[(0, 'release_year', 'INTEGER', 0, None, 0), (1, 'release_name', 'TEXT', 0, None, 0), (2, 'city', 'TEXT', 0, None, 0)]\n"
     ]
    }
   ],
   "source": [
    "# print the columns of the gta table\n",
    "cursor.execute(\"PRAGMA table_info(gta)\") # special command that retrieves metadata about the columns of a table\n",
    "columns = cursor.fetchall()\n",
    "print(columns)"
   ]
  },
  {
   "cell_type": "code",
   "execution_count": 11,
   "metadata": {},
   "outputs": [
    {
     "ename": "OperationalError",
     "evalue": "table cities already exists",
     "output_type": "error",
     "traceback": [
      "\u001b[0;31m---------------------------------------------------------------------------\u001b[0m",
      "\u001b[0;31mOperationalError\u001b[0m                          Traceback (most recent call last)",
      "Cell \u001b[0;32mIn[11], line 2\u001b[0m\n\u001b[1;32m      1\u001b[0m \u001b[38;5;66;03m# create a new cities table\u001b[39;00m\n\u001b[0;32m----> 2\u001b[0m \u001b[43mcursor\u001b[49m\u001b[38;5;241;43m.\u001b[39;49m\u001b[43mexecute\u001b[49m\u001b[43m(\u001b[49m\u001b[38;5;124;43m\"\u001b[39;49m\u001b[38;5;124;43mcreate table cities (gta_city text, real_city text)\u001b[39;49m\u001b[38;5;124;43m\"\u001b[39;49m\u001b[43m)\u001b[49m\n\u001b[1;32m      3\u001b[0m cursor\u001b[38;5;241m.\u001b[39mexecutemany(\u001b[38;5;124m\"\u001b[39m\u001b[38;5;124minsert into cities values (?,?)\u001b[39m\u001b[38;5;124m\"\u001b[39m, city_list)\n\u001b[1;32m      4\u001b[0m \u001b[38;5;66;03m# save changes immediatley\u001b[39;00m\n",
      "\u001b[0;31mOperationalError\u001b[0m: table cities already exists"
     ]
    }
   ],
   "source": [
    "# create a new cities table\n",
    "cursor.execute(\"create table cities (gta_city text, real_city text)\")\n",
    "cursor.executemany(\"insert into cities values (?,?)\", city_list)\n",
    "# save changes immediatley\n",
    "connection.commit()"
   ]
  },
  {
   "cell_type": "code",
   "execution_count": 12,
   "metadata": {},
   "outputs": [
    {
     "name": "stdout",
     "output_type": "stream",
     "text": [
      "('Liberty City', 'New York')\n",
      "('state of New Guernsey', 'state of New Jersey')\n",
      "('Anywhere, USA', 'all USA cities')\n",
      "('Vice City', 'Miami')\n",
      "('state of San Andreas', 'state of California')\n",
      "('Los Santos', 'Los Angeles')\n"
     ]
    }
   ],
   "source": [
    "# print all the rows from the gta table\n",
    "for row in cursor.execute(\"select * from cities\"):\n",
    "    print(row)"
   ]
  },
  {
   "cell_type": "code",
   "execution_count": 13,
   "metadata": {},
   "outputs": [
    {
     "name": "stdout",
     "output_type": "stream",
     "text": [
      "[('Liberty City', 'New York')]\n"
     ]
    }
   ],
   "source": [
    "# select only the rows where gta_city=Liberty City\n",
    "cursor.execute(\"select * from cities where gta_city=:c\", {\"c\": \"Liberty City\"})\n",
    "cities_search = cursor.fetchall()\n",
    "print(cities_search)"
   ]
  },
  {
   "cell_type": "code",
   "execution_count": 14,
   "metadata": {},
   "outputs": [
    {
     "data": {
      "text/plain": [
       "[(2001, 'Grand Theft Auto III', 'Liberty City'),\n",
       " (2008, 'Grand Theft Auto IV', 'Liberty City')]"
      ]
     },
     "execution_count": 14,
     "metadata": {},
     "output_type": "execute_result"
    }
   ],
   "source": [
    "gta_search"
   ]
  },
  {
   "cell_type": "code",
   "execution_count": 15,
   "metadata": {},
   "outputs": [
    {
     "name": "stdout",
     "output_type": "stream",
     "text": [
      "***************************************\n",
      "[2001, 'Grand Theft Auto III', 'New York']\n",
      "[2008, 'Grand Theft Auto IV', 'New York']\n"
     ]
    }
   ],
   "source": [
    "# combine data from 2 tables and manipulate it\n",
    "print(\"***************************************\")\n",
    "for i in gta_search:\n",
    "    #replace every instance of \"Liberty City\" with \"New York\"\n",
    "    adjusted = [cities_search[0][1] if value==cities_search[0][0] else value for value in i]\n",
    "    print(adjusted)"
   ]
  },
  {
   "cell_type": "markdown",
   "metadata": {},
   "source": [
    "## Relational Databases\n",
    "<hr>\n",
    "\n",
    "\n",
    "* A relational database organizes its data into *tables*, sometimes called *relations*.\n",
    "* Each table is made up of a fixed number of *columns* and zero or more *rows*\n",
    "* Each column has a name, and generally has a data type (SQLite is a bit lenient on data types, but a good database design keeps a uniform type on every row in a column)\n",
    "* A table usually has a *primary key*—a column or set of columns that is used to uniquely identify a row. Each row primary key must be unique througout that table.\n",
    "\n",
    "So let's get started by importing some data. Let's say we have a CSV file that holds students and their grades in certain courses:\n",
    "\n",
    "```\n",
    "studentid,course,grade,credits\n",
    "1,PY205,3.8,3\n",
    "1,PY411,3.2,4\n",
    "1,PY412,3.1,4\n",
    "1,E101,3.8,2\n",
    "1,CS216,3.5,3\n",
    "2,PY205,3.1,3\n",
    "2,PY411,2.8,4\n",
    "2,PY412,2.4,4\n",
    "2,E101,2.9,2\n",
    "2,CS216,3.3,3\n",
    "```\n",
    "Both students took the same courses. Student 1 did pretty well, student 2 not as well. Grades are assigned a numerical value with A being a 4, B being a 3, etc.\n",
    "\n",
    "If this data is in a file called ``grades.csv`` then we can import it with the following commands:"
   ]
  },
  {
   "cell_type": "code",
   "execution_count": 2,
   "metadata": {},
   "outputs": [],
   "source": [
    "# import grades.csv  in a sqlite database\n",
    "\n",
    "# Load the CSV data\n",
    "csv_file_path = 'grades.csv'\n",
    "data = pd.read_csv(csv_file_path)"
   ]
  },
  {
   "cell_type": "code",
   "execution_count": 5,
   "metadata": {},
   "outputs": [
    {
     "data": {
      "text/html": [
       "<div>\n",
       "<style scoped>\n",
       "    .dataframe tbody tr th:only-of-type {\n",
       "        vertical-align: middle;\n",
       "    }\n",
       "\n",
       "    .dataframe tbody tr th {\n",
       "        vertical-align: top;\n",
       "    }\n",
       "\n",
       "    .dataframe thead th {\n",
       "        text-align: right;\n",
       "    }\n",
       "</style>\n",
       "<table border=\"1\" class=\"dataframe\">\n",
       "  <thead>\n",
       "    <tr style=\"text-align: right;\">\n",
       "      <th></th>\n",
       "      <th>studentid</th>\n",
       "      <th>course</th>\n",
       "      <th>grade</th>\n",
       "      <th>credits</th>\n",
       "    </tr>\n",
       "  </thead>\n",
       "  <tbody>\n",
       "    <tr>\n",
       "      <th>0</th>\n",
       "      <td>1</td>\n",
       "      <td>PY205</td>\n",
       "      <td>3.8</td>\n",
       "      <td>3</td>\n",
       "    </tr>\n",
       "    <tr>\n",
       "      <th>1</th>\n",
       "      <td>1</td>\n",
       "      <td>PY411</td>\n",
       "      <td>3.2</td>\n",
       "      <td>4</td>\n",
       "    </tr>\n",
       "    <tr>\n",
       "      <th>2</th>\n",
       "      <td>1</td>\n",
       "      <td>PY412</td>\n",
       "      <td>3.1</td>\n",
       "      <td>4</td>\n",
       "    </tr>\n",
       "    <tr>\n",
       "      <th>3</th>\n",
       "      <td>1</td>\n",
       "      <td>E101</td>\n",
       "      <td>3.8</td>\n",
       "      <td>2</td>\n",
       "    </tr>\n",
       "    <tr>\n",
       "      <th>4</th>\n",
       "      <td>1</td>\n",
       "      <td>CS216</td>\n",
       "      <td>3.5</td>\n",
       "      <td>3</td>\n",
       "    </tr>\n",
       "    <tr>\n",
       "      <th>5</th>\n",
       "      <td>2</td>\n",
       "      <td>PY205</td>\n",
       "      <td>3.1</td>\n",
       "      <td>3</td>\n",
       "    </tr>\n",
       "    <tr>\n",
       "      <th>6</th>\n",
       "      <td>2</td>\n",
       "      <td>PY411</td>\n",
       "      <td>2.8</td>\n",
       "      <td>4</td>\n",
       "    </tr>\n",
       "    <tr>\n",
       "      <th>7</th>\n",
       "      <td>2</td>\n",
       "      <td>PY412</td>\n",
       "      <td>2.4</td>\n",
       "      <td>4</td>\n",
       "    </tr>\n",
       "    <tr>\n",
       "      <th>8</th>\n",
       "      <td>2</td>\n",
       "      <td>E101</td>\n",
       "      <td>2.9</td>\n",
       "      <td>2</td>\n",
       "    </tr>\n",
       "    <tr>\n",
       "      <th>9</th>\n",
       "      <td>2</td>\n",
       "      <td>CS216</td>\n",
       "      <td>3.3</td>\n",
       "      <td>3</td>\n",
       "    </tr>\n",
       "  </tbody>\n",
       "</table>\n",
       "</div>"
      ],
      "text/plain": [
       "   studentid course  grade  credits\n",
       "0          1  PY205    3.8        3\n",
       "1          1  PY411    3.2        4\n",
       "2          1  PY412    3.1        4\n",
       "3          1   E101    3.8        2\n",
       "4          1  CS216    3.5        3\n",
       "5          2  PY205    3.1        3\n",
       "6          2  PY411    2.8        4\n",
       "7          2  PY412    2.4        4\n",
       "8          2   E101    2.9        2\n",
       "9          2  CS216    3.3        3"
      ]
     },
     "execution_count": 5,
     "metadata": {},
     "output_type": "execute_result"
    }
   ],
   "source": [
    "data.head(10)"
   ]
  },
  {
   "cell_type": "code",
   "execution_count": 4,
   "metadata": {},
   "outputs": [
    {
     "name": "stdout",
     "output_type": "stream",
     "text": [
      "Data imported into the SQLite database successfully!\n"
     ]
    }
   ],
   "source": [
    "# Connect to SQLite database (or create it if it doesn't exist)\n",
    "conn = sqlite3.connect('students_grades.db')\n",
    "\n",
    "# Save the DataFrame to an SQLite table\n",
    "data.to_sql('grades', conn, if_exists='replace', index=False)\n",
    "\n",
    "# Commit and close the connection\n",
    "conn.commit()\n",
    "conn.close()\n",
    "\n",
    "print(\"Data imported into the SQLite database successfully!\")"
   ]
  },
  {
   "cell_type": "markdown",
   "metadata": {},
   "source": [
    "Let's start exploring our new database.     \n",
    "\n",
    "Check out the [SELECT documentation](https://www.sqlite.org/lang_select.html) and take a look at the syntax flowchart. It's not important to understand it all now, but keep that flowchart handy as we learn more concepts.\n",
    "\n",
    "The important bits to notice are the different clauses:\n",
    "* **SELECT** - lists the columns to return in the results, or ``*`` for all columns. These can actually be any expression, which you can use to compute values, as we'll see in a bit.\n",
    "* **FROM** - defines which tables to use as input to the query. If you have more than one table, then the tables are joined. More on joins later.\n",
    "* **WHERE** - Defines conditional expressions that filter the rows from the input tables\n",
    "* **GROUP BY** - Used in aggregate queries. More on this later.\n",
    "* **HAVING** - Expressions used to filter groups on an aggregate query.\n",
    "* **ORDER BY** - Expressions used to sort the results before returning them\n",
    "* **LIMIT** - Places limits or returns a slice of the results."
   ]
  },
  {
   "cell_type": "code",
   "execution_count": null,
   "metadata": {},
   "outputs": [],
   "source": [
    "# Install this kernel to use the sqlite3 module\n",
    "# !pip install ipython-sql"
   ]
  },
  {
   "cell_type": "markdown",
   "metadata": {},
   "source": [
    "Once installed, you can load the SQL extension and connect it to your SQLite database:"
   ]
  },
  {
   "cell_type": "code",
   "execution_count": 16,
   "metadata": {},
   "outputs": [],
   "source": [
    "# Load the sql extension\n",
    "%load_ext sql\n",
    "\n",
    "# Connect to the SQLite database\n",
    "%sql sqlite:///students_grades.db"
   ]
  },
  {
   "cell_type": "markdown",
   "metadata": {},
   "source": [
    "Now, you can write SQL queries directly in the notebook using %sql or %%sql magic commands:"
   ]
  },
  {
   "cell_type": "code",
   "execution_count": 17,
   "metadata": {},
   "outputs": [
    {
     "name": "stdout",
     "output_type": "stream",
     "text": [
      " * sqlite:///students_grades.db\n",
      "Done.\n"
     ]
    },
    {
     "data": {
      "text/html": [
       "<table>\n",
       "    <thead>\n",
       "        <tr>\n",
       "            <th>studentid</th>\n",
       "            <th>course</th>\n",
       "            <th>grade</th>\n",
       "            <th>credits</th>\n",
       "        </tr>\n",
       "    </thead>\n",
       "    <tbody>\n",
       "        <tr>\n",
       "            <td>1</td>\n",
       "            <td>PY205</td>\n",
       "            <td>3.8</td>\n",
       "            <td>3</td>\n",
       "        </tr>\n",
       "        <tr>\n",
       "            <td>1</td>\n",
       "            <td>PY411</td>\n",
       "            <td>3.2</td>\n",
       "            <td>4</td>\n",
       "        </tr>\n",
       "        <tr>\n",
       "            <td>1</td>\n",
       "            <td>PY412</td>\n",
       "            <td>3.1</td>\n",
       "            <td>4</td>\n",
       "        </tr>\n",
       "        <tr>\n",
       "            <td>1</td>\n",
       "            <td>E101</td>\n",
       "            <td>3.8</td>\n",
       "            <td>2</td>\n",
       "        </tr>\n",
       "        <tr>\n",
       "            <td>1</td>\n",
       "            <td>CS216</td>\n",
       "            <td>3.5</td>\n",
       "            <td>3</td>\n",
       "        </tr>\n",
       "    </tbody>\n",
       "</table>"
      ],
      "text/plain": [
       "[(1, 'PY205', 3.8, 3),\n",
       " (1, 'PY411', 3.2, 4),\n",
       " (1, 'PY412', 3.1, 4),\n",
       " (1, 'E101', 3.8, 2),\n",
       " (1, 'CS216', 3.5, 3)]"
      ]
     },
     "execution_count": 17,
     "metadata": {},
     "output_type": "execute_result"
    }
   ],
   "source": [
    "# Example 1: Display the first few rows from the grades table\n",
    "%sql SELECT * FROM grades LIMIT 5;"
   ]
  },
  {
   "cell_type": "code",
   "execution_count": 18,
   "metadata": {},
   "outputs": [
    {
     "name": "stdout",
     "output_type": "stream",
     "text": [
      " * sqlite:///students_grades.db\n",
      "Done.\n"
     ]
    },
    {
     "data": {
      "text/html": [
       "<table>\n",
       "    <thead>\n",
       "        <tr>\n",
       "            <th>studentid</th>\n",
       "            <th>course</th>\n",
       "            <th>grade</th>\n",
       "            <th>credits</th>\n",
       "        </tr>\n",
       "    </thead>\n",
       "    <tbody>\n",
       "        <tr>\n",
       "            <td>1</td>\n",
       "            <td>PY205</td>\n",
       "            <td>3.8</td>\n",
       "            <td>3</td>\n",
       "        </tr>\n",
       "        <tr>\n",
       "            <td>1</td>\n",
       "            <td>E101</td>\n",
       "            <td>3.8</td>\n",
       "            <td>2</td>\n",
       "        </tr>\n",
       "    </tbody>\n",
       "</table>"
      ],
      "text/plain": [
       "[(1, 'PY205', 3.8, 3), (1, 'E101', 3.8, 2)]"
      ]
     },
     "execution_count": 18,
     "metadata": {},
     "output_type": "execute_result"
    }
   ],
   "source": [
    "# Example 2: Find all students who have a grade higher than 3.5\n",
    "%sql SELECT * FROM grades WHERE grade > 3.5;"
   ]
  },
  {
   "cell_type": "markdown",
   "metadata": {},
   "source": [
    "•\tUse %sql for a single-line SQL query.\n",
    "\n",
    "•\tUse %%sql for multi-line queries. Example:"
   ]
  },
  {
   "cell_type": "code",
   "execution_count": 19,
   "metadata": {},
   "outputs": [
    {
     "name": "stdout",
     "output_type": "stream",
     "text": [
      " * sqlite:///students_grades.db\n",
      "Done.\n"
     ]
    },
    {
     "data": {
      "text/html": [
       "<table>\n",
       "    <thead>\n",
       "        <tr>\n",
       "            <th>course</th>\n",
       "            <th>avg_grade</th>\n",
       "        </tr>\n",
       "    </thead>\n",
       "    <tbody>\n",
       "        <tr>\n",
       "            <td>CS216</td>\n",
       "            <td>3.4</td>\n",
       "        </tr>\n",
       "        <tr>\n",
       "            <td>E101</td>\n",
       "            <td>3.3499999999999996</td>\n",
       "        </tr>\n",
       "        <tr>\n",
       "            <td>PY205</td>\n",
       "            <td>3.45</td>\n",
       "        </tr>\n",
       "        <tr>\n",
       "            <td>PY411</td>\n",
       "            <td>3.0</td>\n",
       "        </tr>\n",
       "        <tr>\n",
       "            <td>PY412</td>\n",
       "            <td>2.75</td>\n",
       "        </tr>\n",
       "    </tbody>\n",
       "</table>"
      ],
      "text/plain": [
       "[('CS216', 3.4),\n",
       " ('E101', 3.3499999999999996),\n",
       " ('PY205', 3.45),\n",
       " ('PY411', 3.0),\n",
       " ('PY412', 2.75)]"
      ]
     },
     "execution_count": 19,
     "metadata": {},
     "output_type": "execute_result"
    }
   ],
   "source": [
    "%%sql\n",
    "SELECT course, AVG(grade) as avg_grade\n",
    "FROM grades\n",
    "GROUP BY course;"
   ]
  },
  {
   "cell_type": "markdown",
   "metadata": {},
   "source": [
    "#### Filtering rows with a WHERE clause\n",
    "You can filter rows using a WHERE clause in your query. You can use simple comparison expressions here. You can have multiple conditions separated by ``AND`` and ``OR`` keywords."
   ]
  },
  {
   "cell_type": "code",
   "execution_count": 13,
   "metadata": {},
   "outputs": [
    {
     "name": "stdout",
     "output_type": "stream",
     "text": [
      " * sqlite:///students_grades.db\n",
      "Done.\n"
     ]
    },
    {
     "data": {
      "text/html": [
       "<table>\n",
       "    <thead>\n",
       "        <tr>\n",
       "            <th>studentid</th>\n",
       "            <th>course</th>\n",
       "            <th>grade</th>\n",
       "            <th>credits</th>\n",
       "        </tr>\n",
       "    </thead>\n",
       "    <tbody>\n",
       "        <tr>\n",
       "            <td>1</td>\n",
       "            <td>PY205</td>\n",
       "            <td>3.8</td>\n",
       "            <td>3</td>\n",
       "        </tr>\n",
       "        <tr>\n",
       "            <td>1</td>\n",
       "            <td>PY411</td>\n",
       "            <td>3.2</td>\n",
       "            <td>4</td>\n",
       "        </tr>\n",
       "        <tr>\n",
       "            <td>1</td>\n",
       "            <td>PY412</td>\n",
       "            <td>3.1</td>\n",
       "            <td>4</td>\n",
       "        </tr>\n",
       "        <tr>\n",
       "            <td>1</td>\n",
       "            <td>E101</td>\n",
       "            <td>3.8</td>\n",
       "            <td>2</td>\n",
       "        </tr>\n",
       "        <tr>\n",
       "            <td>1</td>\n",
       "            <td>CS216</td>\n",
       "            <td>3.5</td>\n",
       "            <td>3</td>\n",
       "        </tr>\n",
       "    </tbody>\n",
       "</table>"
      ],
      "text/plain": [
       "[(1, 'PY205', 3.8, 3),\n",
       " (1, 'PY411', 3.2, 4),\n",
       " (1, 'PY412', 3.1, 4),\n",
       " (1, 'E101', 3.8, 2),\n",
       " (1, 'CS216', 3.5, 3)]"
      ]
     },
     "execution_count": 13,
     "metadata": {},
     "output_type": "execute_result"
    }
   ],
   "source": [
    "%sql SELECT * FROM grades WHERE studentid=1;"
   ]
  },
  {
   "cell_type": "code",
   "execution_count": 14,
   "metadata": {},
   "outputs": [
    {
     "name": "stdout",
     "output_type": "stream",
     "text": [
      " * sqlite:///students_grades.db\n",
      "Done.\n"
     ]
    },
    {
     "data": {
      "text/html": [
       "<table>\n",
       "    <thead>\n",
       "        <tr>\n",
       "            <th>studentid</th>\n",
       "            <th>course</th>\n",
       "            <th>grade</th>\n",
       "            <th>credits</th>\n",
       "        </tr>\n",
       "    </thead>\n",
       "    <tbody>\n",
       "        <tr>\n",
       "            <td>1</td>\n",
       "            <td>PY205</td>\n",
       "            <td>3.8</td>\n",
       "            <td>3</td>\n",
       "        </tr>\n",
       "        <tr>\n",
       "            <td>2</td>\n",
       "            <td>PY205</td>\n",
       "            <td>3.1</td>\n",
       "            <td>3</td>\n",
       "        </tr>\n",
       "    </tbody>\n",
       "</table>"
      ],
      "text/plain": [
       "[(1, 'PY205', 3.8, 3), (2, 'PY205', 3.1, 3)]"
      ]
     },
     "execution_count": 14,
     "metadata": {},
     "output_type": "execute_result"
    }
   ],
   "source": [
    "%sql SELECT * FROM grades WHERE course='PY205';"
   ]
  },
  {
   "cell_type": "code",
   "execution_count": 15,
   "metadata": {},
   "outputs": [
    {
     "name": "stdout",
     "output_type": "stream",
     "text": [
      " * sqlite:///students_grades.db\n",
      "Done.\n"
     ]
    },
    {
     "data": {
      "text/html": [
       "<table>\n",
       "    <thead>\n",
       "        <tr>\n",
       "            <th>studentid</th>\n",
       "            <th>course</th>\n",
       "            <th>grade</th>\n",
       "            <th>credits</th>\n",
       "        </tr>\n",
       "    </thead>\n",
       "    <tbody>\n",
       "        <tr>\n",
       "            <td>2</td>\n",
       "            <td>E101</td>\n",
       "            <td>2.9</td>\n",
       "            <td>2</td>\n",
       "        </tr>\n",
       "    </tbody>\n",
       "</table>"
      ],
      "text/plain": [
       "[(2, 'E101', 2.9, 2)]"
      ]
     },
     "execution_count": 15,
     "metadata": {},
     "output_type": "execute_result"
    }
   ],
   "source": [
    "%sql SELECT * FROM grades WHERE studentid=2 AND course='E101';"
   ]
  },
  {
   "cell_type": "code",
   "execution_count": 16,
   "metadata": {},
   "outputs": [
    {
     "name": "stdout",
     "output_type": "stream",
     "text": [
      " * sqlite:///students_grades.db\n",
      "Done.\n"
     ]
    },
    {
     "data": {
      "text/html": [
       "<table>\n",
       "    <thead>\n",
       "        <tr>\n",
       "            <th>studentid</th>\n",
       "            <th>course</th>\n",
       "            <th>grade</th>\n",
       "            <th>credits</th>\n",
       "        </tr>\n",
       "    </thead>\n",
       "    <tbody>\n",
       "        <tr>\n",
       "            <td>1</td>\n",
       "            <td>PY205</td>\n",
       "            <td>3.8</td>\n",
       "            <td>3</td>\n",
       "        </tr>\n",
       "        <tr>\n",
       "            <td>1</td>\n",
       "            <td>E101</td>\n",
       "            <td>3.8</td>\n",
       "            <td>2</td>\n",
       "        </tr>\n",
       "    </tbody>\n",
       "</table>"
      ],
      "text/plain": [
       "[(1, 'PY205', 3.8, 3), (1, 'E101', 3.8, 2)]"
      ]
     },
     "execution_count": 16,
     "metadata": {},
     "output_type": "execute_result"
    }
   ],
   "source": [
    "%sql SELECT * FROM grades WHERE grade>3.5;"
   ]
  },
  {
   "cell_type": "markdown",
   "metadata": {},
   "source": [
    "#### Expressions and the SELECT clause\n",
    "You can list specific columns you want in your results in the SELECT clause, seprated by columns. Actually, you can put any expression you want in there, computing results from multiple columns.\n",
    "\n",
    "From the [SQLite documentation](https://www.sqlite.org/lang_select.html#resultset): \n",
    "\n",
    "> The list of expressions between the SELECT and FROM keywords is known as the result expression list. If a result expression is the special expression \"*\" then all columns in the input data are substituted for that one expression."
   ]
  },
  {
   "cell_type": "code",
   "execution_count": 17,
   "metadata": {},
   "outputs": [
    {
     "name": "stdout",
     "output_type": "stream",
     "text": [
      " * sqlite:///students_grades.db\n",
      "Done.\n"
     ]
    },
    {
     "data": {
      "text/html": [
       "<table>\n",
       "    <thead>\n",
       "        <tr>\n",
       "            <th>studentid</th>\n",
       "            <th>grade</th>\n",
       "        </tr>\n",
       "    </thead>\n",
       "    <tbody>\n",
       "        <tr>\n",
       "            <td>1</td>\n",
       "            <td>3.8</td>\n",
       "        </tr>\n",
       "        <tr>\n",
       "            <td>1</td>\n",
       "            <td>3.2</td>\n",
       "        </tr>\n",
       "        <tr>\n",
       "            <td>1</td>\n",
       "            <td>3.1</td>\n",
       "        </tr>\n",
       "        <tr>\n",
       "            <td>1</td>\n",
       "            <td>3.8</td>\n",
       "        </tr>\n",
       "        <tr>\n",
       "            <td>1</td>\n",
       "            <td>3.5</td>\n",
       "        </tr>\n",
       "        <tr>\n",
       "            <td>2</td>\n",
       "            <td>3.1</td>\n",
       "        </tr>\n",
       "        <tr>\n",
       "            <td>2</td>\n",
       "            <td>2.8</td>\n",
       "        </tr>\n",
       "        <tr>\n",
       "            <td>2</td>\n",
       "            <td>2.4</td>\n",
       "        </tr>\n",
       "        <tr>\n",
       "            <td>2</td>\n",
       "            <td>2.9</td>\n",
       "        </tr>\n",
       "        <tr>\n",
       "            <td>2</td>\n",
       "            <td>3.3</td>\n",
       "        </tr>\n",
       "    </tbody>\n",
       "</table>"
      ],
      "text/plain": [
       "[(1, 3.8),\n",
       " (1, 3.2),\n",
       " (1, 3.1),\n",
       " (1, 3.8),\n",
       " (1, 3.5),\n",
       " (2, 3.1),\n",
       " (2, 2.8),\n",
       " (2, 2.4),\n",
       " (2, 2.9),\n",
       " (2, 3.3)]"
      ]
     },
     "execution_count": 17,
     "metadata": {},
     "output_type": "execute_result"
    }
   ],
   "source": [
    "%sql SELECT studentid, grade FROM grades;"
   ]
  },
  {
   "cell_type": "markdown",
   "metadata": {},
   "source": [
    "This example shows computing a column from an expression. The grade points earned for a course is the grade earned times the credits. This quantity is used in computing grade point averages."
   ]
  },
  {
   "cell_type": "code",
   "execution_count": 18,
   "metadata": {},
   "outputs": [
    {
     "name": "stdout",
     "output_type": "stream",
     "text": [
      " * sqlite:///students_grades.db\n",
      "Done.\n"
     ]
    },
    {
     "data": {
      "text/html": [
       "<table>\n",
       "    <thead>\n",
       "        <tr>\n",
       "            <th>studentid</th>\n",
       "            <th>course</th>\n",
       "            <th>grade*credits</th>\n",
       "        </tr>\n",
       "    </thead>\n",
       "    <tbody>\n",
       "        <tr>\n",
       "            <td>1</td>\n",
       "            <td>PY205</td>\n",
       "            <td>11.399999999999999</td>\n",
       "        </tr>\n",
       "        <tr>\n",
       "            <td>1</td>\n",
       "            <td>PY411</td>\n",
       "            <td>12.8</td>\n",
       "        </tr>\n",
       "        <tr>\n",
       "            <td>1</td>\n",
       "            <td>PY412</td>\n",
       "            <td>12.4</td>\n",
       "        </tr>\n",
       "        <tr>\n",
       "            <td>1</td>\n",
       "            <td>E101</td>\n",
       "            <td>7.6</td>\n",
       "        </tr>\n",
       "        <tr>\n",
       "            <td>1</td>\n",
       "            <td>CS216</td>\n",
       "            <td>10.5</td>\n",
       "        </tr>\n",
       "        <tr>\n",
       "            <td>2</td>\n",
       "            <td>PY205</td>\n",
       "            <td>9.3</td>\n",
       "        </tr>\n",
       "        <tr>\n",
       "            <td>2</td>\n",
       "            <td>PY411</td>\n",
       "            <td>11.2</td>\n",
       "        </tr>\n",
       "        <tr>\n",
       "            <td>2</td>\n",
       "            <td>PY412</td>\n",
       "            <td>9.6</td>\n",
       "        </tr>\n",
       "        <tr>\n",
       "            <td>2</td>\n",
       "            <td>E101</td>\n",
       "            <td>5.8</td>\n",
       "        </tr>\n",
       "        <tr>\n",
       "            <td>2</td>\n",
       "            <td>CS216</td>\n",
       "            <td>9.899999999999999</td>\n",
       "        </tr>\n",
       "    </tbody>\n",
       "</table>"
      ],
      "text/plain": [
       "[(1, 'PY205', 11.399999999999999),\n",
       " (1, 'PY411', 12.8),\n",
       " (1, 'PY412', 12.4),\n",
       " (1, 'E101', 7.6),\n",
       " (1, 'CS216', 10.5),\n",
       " (2, 'PY205', 9.3),\n",
       " (2, 'PY411', 11.2),\n",
       " (2, 'PY412', 9.6),\n",
       " (2, 'E101', 5.8),\n",
       " (2, 'CS216', 9.899999999999999)]"
      ]
     },
     "execution_count": 18,
     "metadata": {},
     "output_type": "execute_result"
    }
   ],
   "source": [
    "%sql SELECT studentid, course, grade*credits FROM grades;"
   ]
  },
  {
   "cell_type": "markdown",
   "metadata": {},
   "source": [
    "You can change the result column name by giving an alternative name like so. This is useful for clarity, but also you can refer to these names later in the query in the WHERE clause and a few other clauses."
   ]
  },
  {
   "cell_type": "code",
   "execution_count": 19,
   "metadata": {},
   "outputs": [
    {
     "name": "stdout",
     "output_type": "stream",
     "text": [
      " * sqlite:///students_grades.db\n",
      "Done.\n"
     ]
    },
    {
     "data": {
      "text/html": [
       "<table>\n",
       "    <thead>\n",
       "        <tr>\n",
       "            <th>studentid</th>\n",
       "            <th>course</th>\n",
       "            <th>gradepoints</th>\n",
       "        </tr>\n",
       "    </thead>\n",
       "    <tbody>\n",
       "        <tr>\n",
       "            <td>1</td>\n",
       "            <td>PY205</td>\n",
       "            <td>11.399999999999999</td>\n",
       "        </tr>\n",
       "        <tr>\n",
       "            <td>1</td>\n",
       "            <td>PY411</td>\n",
       "            <td>12.8</td>\n",
       "        </tr>\n",
       "        <tr>\n",
       "            <td>1</td>\n",
       "            <td>PY412</td>\n",
       "            <td>12.4</td>\n",
       "        </tr>\n",
       "        <tr>\n",
       "            <td>1</td>\n",
       "            <td>E101</td>\n",
       "            <td>7.6</td>\n",
       "        </tr>\n",
       "        <tr>\n",
       "            <td>1</td>\n",
       "            <td>CS216</td>\n",
       "            <td>10.5</td>\n",
       "        </tr>\n",
       "        <tr>\n",
       "            <td>2</td>\n",
       "            <td>PY205</td>\n",
       "            <td>9.3</td>\n",
       "        </tr>\n",
       "        <tr>\n",
       "            <td>2</td>\n",
       "            <td>PY411</td>\n",
       "            <td>11.2</td>\n",
       "        </tr>\n",
       "        <tr>\n",
       "            <td>2</td>\n",
       "            <td>PY412</td>\n",
       "            <td>9.6</td>\n",
       "        </tr>\n",
       "        <tr>\n",
       "            <td>2</td>\n",
       "            <td>E101</td>\n",
       "            <td>5.8</td>\n",
       "        </tr>\n",
       "        <tr>\n",
       "            <td>2</td>\n",
       "            <td>CS216</td>\n",
       "            <td>9.899999999999999</td>\n",
       "        </tr>\n",
       "    </tbody>\n",
       "</table>"
      ],
      "text/plain": [
       "[(1, 'PY205', 11.399999999999999),\n",
       " (1, 'PY411', 12.8),\n",
       " (1, 'PY412', 12.4),\n",
       " (1, 'E101', 7.6),\n",
       " (1, 'CS216', 10.5),\n",
       " (2, 'PY205', 9.3),\n",
       " (2, 'PY411', 11.2),\n",
       " (2, 'PY412', 9.6),\n",
       " (2, 'E101', 5.8),\n",
       " (2, 'CS216', 9.899999999999999)]"
      ]
     },
     "execution_count": 19,
     "metadata": {},
     "output_type": "execute_result"
    }
   ],
   "source": [
    "%sql SELECT studentid, course, grade*credits AS gradepoints FROM grades;"
   ]
  },
  {
   "cell_type": "markdown",
   "metadata": {},
   "source": [
    "Finally, take a look at the reference page on [Core Functions](https://www.sqlite.org/lang_corefunc.html) and the reference page on [Expressions](https://www.sqlite.org/lang_expr.html). The core functions can be used in any expression, and the expression syntax has other features. Here are two examples.\n",
    "\n",
    "Using a CASE expression to transform numerical grades to letters:"
   ]
  },
  {
   "cell_type": "code",
   "execution_count": 20,
   "metadata": {},
   "outputs": [
    {
     "name": "stdout",
     "output_type": "stream",
     "text": [
      " * sqlite:///students_grades.db\n",
      "Done.\n"
     ]
    },
    {
     "data": {
      "text/html": [
       "<table>\n",
       "    <thead>\n",
       "        <tr>\n",
       "            <th>studentid</th>\n",
       "            <th>course</th>\n",
       "            <th>lettergrade</th>\n",
       "        </tr>\n",
       "    </thead>\n",
       "    <tbody>\n",
       "        <tr>\n",
       "            <td>1</td>\n",
       "            <td>PY205</td>\n",
       "            <td>A</td>\n",
       "        </tr>\n",
       "        <tr>\n",
       "            <td>1</td>\n",
       "            <td>PY411</td>\n",
       "            <td>B</td>\n",
       "        </tr>\n",
       "        <tr>\n",
       "            <td>1</td>\n",
       "            <td>PY412</td>\n",
       "            <td>B</td>\n",
       "        </tr>\n",
       "        <tr>\n",
       "            <td>1</td>\n",
       "            <td>E101</td>\n",
       "            <td>A</td>\n",
       "        </tr>\n",
       "        <tr>\n",
       "            <td>1</td>\n",
       "            <td>CS216</td>\n",
       "            <td>B</td>\n",
       "        </tr>\n",
       "        <tr>\n",
       "            <td>2</td>\n",
       "            <td>PY205</td>\n",
       "            <td>B</td>\n",
       "        </tr>\n",
       "        <tr>\n",
       "            <td>2</td>\n",
       "            <td>PY411</td>\n",
       "            <td>B</td>\n",
       "        </tr>\n",
       "        <tr>\n",
       "            <td>2</td>\n",
       "            <td>PY412</td>\n",
       "            <td>C</td>\n",
       "        </tr>\n",
       "        <tr>\n",
       "            <td>2</td>\n",
       "            <td>E101</td>\n",
       "            <td>B</td>\n",
       "        </tr>\n",
       "        <tr>\n",
       "            <td>2</td>\n",
       "            <td>CS216</td>\n",
       "            <td>B</td>\n",
       "        </tr>\n",
       "    </tbody>\n",
       "</table>"
      ],
      "text/plain": [
       "[(1, 'PY205', 'A'),\n",
       " (1, 'PY411', 'B'),\n",
       " (1, 'PY412', 'B'),\n",
       " (1, 'E101', 'A'),\n",
       " (1, 'CS216', 'B'),\n",
       " (2, 'PY205', 'B'),\n",
       " (2, 'PY411', 'B'),\n",
       " (2, 'PY412', 'C'),\n",
       " (2, 'E101', 'B'),\n",
       " (2, 'CS216', 'B')]"
      ]
     },
     "execution_count": 20,
     "metadata": {},
     "output_type": "execute_result"
    }
   ],
   "source": [
    "%%sql SELECT studentid, course,\n",
    "       CASE WHEN grade<0.66 THEN 'F'\n",
    "            WHEN grade<1.66 THEN 'D'\n",
    "            WHEN grade<2.66 THEN 'C'\n",
    "            WHEN grade<3.66 THEN 'B'\n",
    "            ELSE 'A' END\n",
    "                AS lettergrade\n",
    "    FROM grades;"
   ]
  },
  {
   "cell_type": "markdown",
   "metadata": {},
   "source": [
    "Using a LIKE expression in the WHERE clause to match all Physics classes. LIKE expressions do pattern matching using the percent sign as a wildcard."
   ]
  },
  {
   "cell_type": "code",
   "execution_count": 21,
   "metadata": {},
   "outputs": [
    {
     "name": "stdout",
     "output_type": "stream",
     "text": [
      " * sqlite:///students_grades.db\n",
      "Done.\n"
     ]
    },
    {
     "data": {
      "text/html": [
       "<table>\n",
       "    <thead>\n",
       "        <tr>\n",
       "            <th>studentid</th>\n",
       "            <th>course</th>\n",
       "            <th>grade</th>\n",
       "            <th>credits</th>\n",
       "        </tr>\n",
       "    </thead>\n",
       "    <tbody>\n",
       "        <tr>\n",
       "            <td>1</td>\n",
       "            <td>PY205</td>\n",
       "            <td>3.8</td>\n",
       "            <td>3</td>\n",
       "        </tr>\n",
       "        <tr>\n",
       "            <td>1</td>\n",
       "            <td>PY411</td>\n",
       "            <td>3.2</td>\n",
       "            <td>4</td>\n",
       "        </tr>\n",
       "        <tr>\n",
       "            <td>1</td>\n",
       "            <td>PY412</td>\n",
       "            <td>3.1</td>\n",
       "            <td>4</td>\n",
       "        </tr>\n",
       "        <tr>\n",
       "            <td>2</td>\n",
       "            <td>PY205</td>\n",
       "            <td>3.1</td>\n",
       "            <td>3</td>\n",
       "        </tr>\n",
       "        <tr>\n",
       "            <td>2</td>\n",
       "            <td>PY411</td>\n",
       "            <td>2.8</td>\n",
       "            <td>4</td>\n",
       "        </tr>\n",
       "        <tr>\n",
       "            <td>2</td>\n",
       "            <td>PY412</td>\n",
       "            <td>2.4</td>\n",
       "            <td>4</td>\n",
       "        </tr>\n",
       "    </tbody>\n",
       "</table>"
      ],
      "text/plain": [
       "[(1, 'PY205', 3.8, 3),\n",
       " (1, 'PY411', 3.2, 4),\n",
       " (1, 'PY412', 3.1, 4),\n",
       " (2, 'PY205', 3.1, 3),\n",
       " (2, 'PY411', 2.8, 4),\n",
       " (2, 'PY412', 2.4, 4)]"
      ]
     },
     "execution_count": 21,
     "metadata": {},
     "output_type": "execute_result"
    }
   ],
   "source": [
    "%sql SELECT * FROM grades WHERE course LIKE \"PY%\";"
   ]
  },
  {
   "cell_type": "markdown",
   "metadata": {},
   "source": [
    "Now you know how to do simple selects and queries on a table, filtering results and doing some simple computations. Take some time to play with various expressions and queries by your own!   "
   ]
  },
  {
   "cell_type": "markdown",
   "metadata": {},
   "source": [
    "#### Grouping and Aggregate Queries\n",
    "So you can now select rows from the table and compute expressions per-row, but what if you want to compute a student's GPA from all their courses? Because each (student,course) pair is its own row, we can't computer a GPA because that involves data from more than one row.\n",
    "\n",
    "SQL provides a grouping mechanism that allows you to do aggregate computations on each group. This is done with the GROUP BY clause, which goes after the FROM and WHERE clauses.\n",
    "\n",
    "The GROUP BY clause takes one or more expressions, separated by commas, that define the groups. Typically, these expressions will be column names but you can compute values with expressions, too.\n",
    "\n",
    "SQL will then take each row and assign it a group based on the GROUP BY expression(s). **The results of the query will be one row per group.** From the [SQLite docs](https://www.sqlite.org/lang_select.html#resultset):\n",
    "> [...] each of the expressions specified as part of the GROUP BY clause is evaluated for each row of the dataset. Each row is then assigned to a \"group\" based on the results; rows for which the results of evaluating the GROUP BY expressions are the same get assigned to the same group.\n",
    "\n",
    "Using a GROUP BY clause makes the query into an *aggregate query*. In your SELECT clause, you can then use one or more [aggregate functions](https://www.sqlite.org/lang_aggfunc.html). The aggregate functions operate over each row in the group. So, for example, you can compute the average grade per student like this:"
   ]
  },
  {
   "cell_type": "code",
   "execution_count": 23,
   "metadata": {},
   "outputs": [
    {
     "name": "stdout",
     "output_type": "stream",
     "text": [
      " * sqlite:///students_grades.db\n",
      "Done.\n"
     ]
    },
    {
     "data": {
      "text/html": [
       "<table>\n",
       "    <thead>\n",
       "        <tr>\n",
       "            <th>studentid</th>\n",
       "            <th>avg_grade</th>\n",
       "        </tr>\n",
       "    </thead>\n",
       "    <tbody>\n",
       "        <tr>\n",
       "            <td>1</td>\n",
       "            <td>3.4799999999999995</td>\n",
       "        </tr>\n",
       "        <tr>\n",
       "            <td>2</td>\n",
       "            <td>2.9</td>\n",
       "        </tr>\n",
       "    </tbody>\n",
       "</table>"
      ],
      "text/plain": [
       "[(1, 3.4799999999999995), (2, 2.9)]"
      ]
     },
     "execution_count": 23,
     "metadata": {},
     "output_type": "execute_result"
    }
   ],
   "source": [
    "%sql SELECT studentid, AVG(grade) AS avg_grade FROM grades GROUP BY studentid;"
   ]
  },
  {
   "cell_type": "markdown",
   "metadata": {},
   "source": [
    "Now we know enough to use grouping to compute each student's GPA:"
   ]
  },
  {
   "cell_type": "code",
   "execution_count": 24,
   "metadata": {},
   "outputs": [
    {
     "name": "stdout",
     "output_type": "stream",
     "text": [
      " * sqlite:///students_grades.db\n",
      "Done.\n"
     ]
    },
    {
     "data": {
      "text/html": [
       "<table>\n",
       "    <thead>\n",
       "        <tr>\n",
       "            <th>studentid</th>\n",
       "            <th>GPA</th>\n",
       "        </tr>\n",
       "    </thead>\n",
       "    <tbody>\n",
       "        <tr>\n",
       "            <td>1</td>\n",
       "            <td>3.41875</td>\n",
       "        </tr>\n",
       "        <tr>\n",
       "            <td>2</td>\n",
       "            <td>2.8625</td>\n",
       "        </tr>\n",
       "    </tbody>\n",
       "</table>"
      ],
      "text/plain": [
       "[(1, 3.41875), (2, 2.8625)]"
      ]
     },
     "execution_count": 24,
     "metadata": {},
     "output_type": "execute_result"
    }
   ],
   "source": [
    "%sql SELECT studentid, SUM(grade*credits)/SUM(credits) AS GPA FROM grades GROUP BY studentid;"
   ]
  },
  {
   "cell_type": "markdown",
   "metadata": {},
   "source": [
    "This takes the total gradepoints of each group and divides them by the total credits in that group. Since the grouping is by studentid, each student is a group, and each group contains the rows for that student. So any aggregate functions operate on the rows for each student independently.\n",
    "\n",
    "If you combine the WHERE clause with an aggregate query, the WHERE clause filters the input rows before grouping. So here is the GPA of all students just for their Physics classes:"
   ]
  },
  {
   "cell_type": "code",
   "execution_count": 25,
   "metadata": {},
   "outputs": [
    {
     "name": "stdout",
     "output_type": "stream",
     "text": [
      " * sqlite:///students_grades.db\n",
      "Done.\n"
     ]
    },
    {
     "data": {
      "text/html": [
       "<table>\n",
       "    <thead>\n",
       "        <tr>\n",
       "            <th>studentid</th>\n",
       "            <th>course</th>\n",
       "            <th>grade</th>\n",
       "            <th>credits</th>\n",
       "        </tr>\n",
       "    </thead>\n",
       "    <tbody>\n",
       "        <tr>\n",
       "            <td>1</td>\n",
       "            <td>PY205</td>\n",
       "            <td>3.8</td>\n",
       "            <td>3</td>\n",
       "        </tr>\n",
       "        <tr>\n",
       "            <td>1</td>\n",
       "            <td>PY411</td>\n",
       "            <td>3.2</td>\n",
       "            <td>4</td>\n",
       "        </tr>\n",
       "        <tr>\n",
       "            <td>1</td>\n",
       "            <td>PY412</td>\n",
       "            <td>3.1</td>\n",
       "            <td>4</td>\n",
       "        </tr>\n",
       "        <tr>\n",
       "            <td>2</td>\n",
       "            <td>PY205</td>\n",
       "            <td>3.1</td>\n",
       "            <td>3</td>\n",
       "        </tr>\n",
       "        <tr>\n",
       "            <td>2</td>\n",
       "            <td>PY411</td>\n",
       "            <td>2.8</td>\n",
       "            <td>4</td>\n",
       "        </tr>\n",
       "        <tr>\n",
       "            <td>2</td>\n",
       "            <td>PY412</td>\n",
       "            <td>2.4</td>\n",
       "            <td>4</td>\n",
       "        </tr>\n",
       "    </tbody>\n",
       "</table>"
      ],
      "text/plain": [
       "[(1, 'PY205', 3.8, 3),\n",
       " (1, 'PY411', 3.2, 4),\n",
       " (1, 'PY412', 3.1, 4),\n",
       " (2, 'PY205', 3.1, 3),\n",
       " (2, 'PY411', 2.8, 4),\n",
       " (2, 'PY412', 2.4, 4)]"
      ]
     },
     "execution_count": 25,
     "metadata": {},
     "output_type": "execute_result"
    }
   ],
   "source": [
    "%sql SELECT * FROM grades WHERE course LIKE \"PY%\";"
   ]
  },
  {
   "cell_type": "markdown",
   "metadata": {},
   "source": [
    "If you add a HAVING clause, this filters the groups. It's essentially like the WHERE clause except it applies *after* grouping instead of before. You can use aggregate expressions in the HAVING clause.\n",
    "\n",
    "This selects students that have a GPA greater than 3. Notice how we don't actually select the GPA into the results, we just get the studentids, and calculate the GPA in the HAVING clause."
   ]
  },
  {
   "cell_type": "code",
   "execution_count": 28,
   "metadata": {},
   "outputs": [
    {
     "name": "stdout",
     "output_type": "stream",
     "text": [
      " * sqlite:///students_grades.db\n",
      "Done.\n"
     ]
    },
    {
     "data": {
      "text/html": [
       "<table>\n",
       "    <thead>\n",
       "        <tr>\n",
       "            <th>studentid</th>\n",
       "        </tr>\n",
       "    </thead>\n",
       "    <tbody>\n",
       "        <tr>\n",
       "            <td>1</td>\n",
       "        </tr>\n",
       "    </tbody>\n",
       "</table>"
      ],
      "text/plain": [
       "[(1,)]"
      ]
     },
     "execution_count": 28,
     "metadata": {},
     "output_type": "execute_result"
    }
   ],
   "source": [
    "%sql SELECT studentid FROM grades GROUP BY studentid HAVING SUM(grade*credits)/SUM(credits) >= 3;"
   ]
  },
  {
   "cell_type": "markdown",
   "metadata": {},
   "source": [
    "You can also refer to a column name in other clauses. So if you *do* want the GPA in the results, to avoid having to duplicate the expression in both clauses, give it a name and refer to it by name:"
   ]
  },
  {
   "cell_type": "code",
   "execution_count": 38,
   "metadata": {},
   "outputs": [
    {
     "name": "stdout",
     "output_type": "stream",
     "text": [
      " * sqlite:///students_grades.db\n",
      "Done.\n"
     ]
    },
    {
     "data": {
      "text/html": [
       "<table>\n",
       "    <thead>\n",
       "        <tr>\n",
       "            <th>studentid</th>\n",
       "            <th>GPA</th>\n",
       "        </tr>\n",
       "    </thead>\n",
       "    <tbody>\n",
       "        <tr>\n",
       "            <td>1</td>\n",
       "            <td>3.41875</td>\n",
       "        </tr>\n",
       "    </tbody>\n",
       "</table>"
      ],
      "text/plain": [
       "[(1, 3.41875)]"
      ]
     },
     "execution_count": 38,
     "metadata": {},
     "output_type": "execute_result"
    }
   ],
   "source": [
    "%%sql SELECT studentid, SUM(grade*credits)/SUM(credits) AS GPA \n",
    "    FROM grades\n",
    "    GROUP BY studentid\n",
    "    HAVING GPA >= 3;"
   ]
  },
  {
   "cell_type": "markdown",
   "metadata": {},
   "source": [
    "#### Two more notes on Aggregate Queries\n",
    "\n",
    "**1.** if you use an *aggregate function* but don't use a GROUP BY clause, the query is still an aggregate query, but with one large group containing every row.\n",
    "\n",
    "This is the total GPA of all students, which may or may not be meaningful."
   ]
  },
  {
   "cell_type": "code",
   "execution_count": 29,
   "metadata": {},
   "outputs": [
    {
     "name": "stdout",
     "output_type": "stream",
     "text": [
      " * sqlite:///students_grades.db\n",
      "Done.\n"
     ]
    },
    {
     "data": {
      "text/html": [
       "<table>\n",
       "    <thead>\n",
       "        <tr>\n",
       "            <th>GPA</th>\n",
       "        </tr>\n",
       "    </thead>\n",
       "    <tbody>\n",
       "        <tr>\n",
       "            <td>3.140625</td>\n",
       "        </tr>\n",
       "    </tbody>\n",
       "</table>"
      ],
      "text/plain": [
       "[(3.140625,)]"
      ]
     },
     "execution_count": 29,
     "metadata": {},
     "output_type": "execute_result"
    }
   ],
   "source": [
    "%sql SELECT SUM(grade*credits)/SUM(credits) AS GPA FROM grades;"
   ]
  },
  {
   "cell_type": "markdown",
   "metadata": {},
   "source": [
    "**2.** If you select on a column that is neither an aggregate function nor a column named in the GROUP BY, you're essentially asking about a column for which there may be multiple results. This is allowed, but since the results only give one row per group, SQLite will pick an arbitrary row within the group to return, which is usually not meaningful.\n",
    "\n",
    "From the [SQLite docs](https://www.sqlite.org/lang_select.html#resultset):\n",
    "> Each expression in the result-set is then evaluated once for each group of rows. If the expression is an aggregate expression, it is evaluated across all rows in the group. Otherwise, it is evaluated against a single arbitrarily chosen row from within the group. If there is more than one non-aggregate expression in the result-set, then all such expressions are evaluated for the same row.\n",
    "\n",
    "\n",
    "For example, this query groups by students and also selects the course column. But since each student takes more than one course, this will return an arbitrary course for each student."
   ]
  },
  {
   "cell_type": "code",
   "execution_count": 30,
   "metadata": {},
   "outputs": [
    {
     "name": "stdout",
     "output_type": "stream",
     "text": [
      " * sqlite:///students_grades.db\n",
      "Done.\n"
     ]
    },
    {
     "data": {
      "text/html": [
       "<table>\n",
       "    <thead>\n",
       "        <tr>\n",
       "            <th>studentid</th>\n",
       "            <th>course</th>\n",
       "        </tr>\n",
       "    </thead>\n",
       "    <tbody>\n",
       "        <tr>\n",
       "            <td>1</td>\n",
       "            <td>PY205</td>\n",
       "        </tr>\n",
       "        <tr>\n",
       "            <td>1</td>\n",
       "            <td>PY411</td>\n",
       "        </tr>\n",
       "        <tr>\n",
       "            <td>1</td>\n",
       "            <td>PY412</td>\n",
       "        </tr>\n",
       "        <tr>\n",
       "            <td>1</td>\n",
       "            <td>E101</td>\n",
       "        </tr>\n",
       "        <tr>\n",
       "            <td>1</td>\n",
       "            <td>CS216</td>\n",
       "        </tr>\n",
       "        <tr>\n",
       "            <td>2</td>\n",
       "            <td>PY205</td>\n",
       "        </tr>\n",
       "        <tr>\n",
       "            <td>2</td>\n",
       "            <td>PY411</td>\n",
       "        </tr>\n",
       "        <tr>\n",
       "            <td>2</td>\n",
       "            <td>PY412</td>\n",
       "        </tr>\n",
       "        <tr>\n",
       "            <td>2</td>\n",
       "            <td>E101</td>\n",
       "        </tr>\n",
       "        <tr>\n",
       "            <td>2</td>\n",
       "            <td>CS216</td>\n",
       "        </tr>\n",
       "    </tbody>\n",
       "</table>"
      ],
      "text/plain": [
       "[(1, 'PY205'),\n",
       " (1, 'PY411'),\n",
       " (1, 'PY412'),\n",
       " (1, 'E101'),\n",
       " (1, 'CS216'),\n",
       " (2, 'PY205'),\n",
       " (2, 'PY411'),\n",
       " (2, 'PY412'),\n",
       " (2, 'E101'),\n",
       " (2, 'CS216')]"
      ]
     },
     "execution_count": 30,
     "metadata": {},
     "output_type": "execute_result"
    }
   ],
   "source": [
    "%sql SELECT studentid, course FROM grades"
   ]
  },
  {
   "cell_type": "code",
   "execution_count": 31,
   "metadata": {},
   "outputs": [
    {
     "name": "stdout",
     "output_type": "stream",
     "text": [
      " * sqlite:///students_grades.db\n",
      "Done.\n"
     ]
    },
    {
     "data": {
      "text/html": [
       "<table>\n",
       "    <thead>\n",
       "        <tr>\n",
       "            <th>studentid</th>\n",
       "            <th>course</th>\n",
       "        </tr>\n",
       "    </thead>\n",
       "    <tbody>\n",
       "        <tr>\n",
       "            <td>1</td>\n",
       "            <td>PY205</td>\n",
       "        </tr>\n",
       "        <tr>\n",
       "            <td>2</td>\n",
       "            <td>PY205</td>\n",
       "        </tr>\n",
       "    </tbody>\n",
       "</table>"
      ],
      "text/plain": [
       "[(1, 'PY205'), (2, 'PY205')]"
      ]
     },
     "execution_count": 31,
     "metadata": {},
     "output_type": "execute_result"
    }
   ],
   "source": [
    "%sql SELECT studentid, course FROM grades GROUP BY studentid;"
   ]
  },
  {
   "cell_type": "markdown",
   "metadata": {},
   "source": [
    "### Joins\n",
    "\n",
    "Joins are one of the most powerful features of SQL, but are also tricky to master. They allow you to join two or more tables of data together. Before we get started, we'll need another table of data.\n",
    "\n",
    "Let's import the contents of demographics.csv into our database, this one with just 3 rows:\n",
    "\n",
    "```\n",
    "studentid,gender,age\n",
    "1,m,22\n",
    "2,f,19\n",
    "3,m,20\n",
    "```"
   ]
  },
  {
   "cell_type": "code",
   "execution_count": 32,
   "metadata": {},
   "outputs": [
    {
     "name": "stdout",
     "output_type": "stream",
     "text": [
      "Data imported into the SQLite database successfully!\n"
     ]
    }
   ],
   "source": [
    "# Load the CSV data\n",
    "csv_file_path = 'demographics.csv'\n",
    "data = pd.read_csv(csv_file_path)\n",
    "\n",
    "# Connect to SQLite database (or create it if it doesn't exist)\n",
    "conn = sqlite3.connect('students_demographics.db')\n",
    "\n",
    "# Save the DataFrame to an SQLite table\n",
    "data.to_sql('demographics', conn, if_exists='replace', index=False)\n",
    "\n",
    "# Commit and close the connection\n",
    "conn.commit()\n",
    "conn.close()\n",
    "\n",
    "print(\"Data imported into the SQLite database successfully!\")"
   ]
  },
  {
   "cell_type": "code",
   "execution_count": 21,
   "metadata": {},
   "outputs": [],
   "source": [
    "%sql sqlite:///students_demographics.db"
   ]
  },
  {
   "cell_type": "code",
   "execution_count": 22,
   "metadata": {},
   "outputs": [
    {
     "name": "stdout",
     "output_type": "stream",
     "text": [
      " * sqlite:///students_demographics.db\n",
      "   sqlite:///students_grades.db\n",
      "Done.\n"
     ]
    },
    {
     "data": {
      "text/html": [
       "<table>\n",
       "    <thead>\n",
       "        <tr>\n",
       "            <th>studentid</th>\n",
       "            <th>gender</th>\n",
       "            <th>age</th>\n",
       "        </tr>\n",
       "    </thead>\n",
       "    <tbody>\n",
       "        <tr>\n",
       "            <td>1</td>\n",
       "            <td>m</td>\n",
       "            <td>22</td>\n",
       "        </tr>\n",
       "        <tr>\n",
       "            <td>2</td>\n",
       "            <td>f</td>\n",
       "            <td>19</td>\n",
       "        </tr>\n",
       "        <tr>\n",
       "            <td>3</td>\n",
       "            <td>m</td>\n",
       "            <td>20</td>\n",
       "        </tr>\n",
       "    </tbody>\n",
       "</table>"
      ],
      "text/plain": [
       "[(1, 'm', 22), (2, 'f', 19), (3, 'm', 20)]"
      ]
     },
     "execution_count": 22,
     "metadata": {},
     "output_type": "execute_result"
    }
   ],
   "source": [
    "%sql SELECT * FROM demographics;"
   ]
  },
  {
   "cell_type": "markdown",
   "metadata": {},
   "source": [
    "Now we can join the tables together. At its core, a join is simply a cartesian-product of the rows in two input tables. So for every row in one input table, every row in the second table will be returned.\n",
    "\n",
    "From the [SQLite docs](https://www.sqlite.org/lang_select.html#fromclause):\n",
    "> There is a row in the cartesian product dataset formed by combining each unique combination of a row from the left-hand and right-hand datasets. In other words, if the left-hand dataset consists of Nleft rows of Mleft columns, and the right-hand dataset of Nright rows of Mright columns, then the cartesian product is a dataset of Nleft×Nright rows, each containing Mleft+Mright columns.\n",
    "\n",
    "The following is a nonsensical query demonstrating this, but it's an important mental model to have for how joins work. Interacting with more that one database is a bit complicated using our kernel, so we go back to our previous method on how to connect to a database."
   ]
  },
  {
   "cell_type": "code",
   "execution_count": 23,
   "metadata": {},
   "outputs": [
    {
     "name": "stdout",
     "output_type": "stream",
     "text": [
      "(1, 'PY205', 3.8, 3, 1, 'm', 22)\n",
      "(1, 'PY411', 3.2, 4, 1, 'm', 22)\n",
      "(1, 'PY412', 3.1, 4, 1, 'm', 22)\n",
      "(1, 'E101', 3.8, 2, 1, 'm', 22)\n",
      "(1, 'CS216', 3.5, 3, 1, 'm', 22)\n",
      "(2, 'PY205', 3.1, 3, 2, 'f', 19)\n",
      "(2, 'PY411', 2.8, 4, 2, 'f', 19)\n",
      "(2, 'PY412', 2.4, 4, 2, 'f', 19)\n",
      "(2, 'E101', 2.9, 2, 2, 'f', 19)\n",
      "(2, 'CS216', 3.3, 3, 2, 'f', 19)\n"
     ]
    }
   ],
   "source": [
    "# Connect to the first database (students_grades.db)\n",
    "conn = sqlite3.connect('students_grades.db')\n",
    "cursor = conn.cursor()\n",
    "\n",
    "# Attach the second database (demographics.db)\n",
    "cursor.execute(\"ATTACH DATABASE 'students_demographics.db' AS demo_db;\")\n",
    "\n",
    "# Perform the join query between the grades table and the demographics table\n",
    "query = \"\"\"\n",
    "SELECT g.*, d.*\n",
    "FROM grades g\n",
    "JOIN demo_db.demographics d\n",
    "ON g.studentid = d.studentid;\n",
    "\"\"\"\n",
    "cursor.execute(query)\n",
    "\n",
    "# Fetch all results from the query\n",
    "results = cursor.fetchall()\n",
    "\n",
    "# Print the results\n",
    "for row in results:\n",
    "    print(row)\n",
    "\n",
    "# Detach the attached database and close the connection\n",
    "cursor.execute(\"DETACH DATABASE demo_db;\")\n",
    "conn.close()"
   ]
  },
  {
   "cell_type": "code",
   "execution_count": 24,
   "metadata": {},
   "outputs": [
    {
     "name": "stdout",
     "output_type": "stream",
     "text": [
      "   sqlite:///students_demographics.db\n",
      " * sqlite:///students_grades.db\n",
      "(sqlite3.OperationalError) database demo_db is already in use\n",
      "[SQL: ATTACH DATABASE 'students_demographics.db' AS demo_db;]\n",
      "(Background on this error at: https://sqlalche.me/e/20/e3q8)\n"
     ]
    }
   ],
   "source": [
    "%sql sqlite:///students_grades.db\n",
    "\n",
    "# Now attach the second database (demographics.db)\n",
    "%sql ATTACH DATABASE 'students_demographics.db' AS demo_db;"
   ]
  },
  {
   "cell_type": "code",
   "execution_count": 25,
   "metadata": {},
   "outputs": [
    {
     "name": "stdout",
     "output_type": "stream",
     "text": [
      "   sqlite:///students_demographics.db\n",
      " * sqlite:///students_grades.db\n",
      "Done.\n"
     ]
    },
    {
     "data": {
      "text/html": [
       "<table>\n",
       "    <thead>\n",
       "        <tr>\n",
       "            <th>studentid</th>\n",
       "            <th>course</th>\n",
       "            <th>grade</th>\n",
       "            <th>credits</th>\n",
       "            <th>studentid_1</th>\n",
       "            <th>gender</th>\n",
       "            <th>age</th>\n",
       "        </tr>\n",
       "    </thead>\n",
       "    <tbody>\n",
       "        <tr>\n",
       "            <td>1</td>\n",
       "            <td>PY205</td>\n",
       "            <td>3.8</td>\n",
       "            <td>3</td>\n",
       "            <td>1</td>\n",
       "            <td>m</td>\n",
       "            <td>22</td>\n",
       "        </tr>\n",
       "        <tr>\n",
       "            <td>1</td>\n",
       "            <td>PY411</td>\n",
       "            <td>3.2</td>\n",
       "            <td>4</td>\n",
       "            <td>1</td>\n",
       "            <td>m</td>\n",
       "            <td>22</td>\n",
       "        </tr>\n",
       "        <tr>\n",
       "            <td>1</td>\n",
       "            <td>PY412</td>\n",
       "            <td>3.1</td>\n",
       "            <td>4</td>\n",
       "            <td>1</td>\n",
       "            <td>m</td>\n",
       "            <td>22</td>\n",
       "        </tr>\n",
       "        <tr>\n",
       "            <td>1</td>\n",
       "            <td>E101</td>\n",
       "            <td>3.8</td>\n",
       "            <td>2</td>\n",
       "            <td>1</td>\n",
       "            <td>m</td>\n",
       "            <td>22</td>\n",
       "        </tr>\n",
       "        <tr>\n",
       "            <td>1</td>\n",
       "            <td>CS216</td>\n",
       "            <td>3.5</td>\n",
       "            <td>3</td>\n",
       "            <td>1</td>\n",
       "            <td>m</td>\n",
       "            <td>22</td>\n",
       "        </tr>\n",
       "        <tr>\n",
       "            <td>2</td>\n",
       "            <td>PY205</td>\n",
       "            <td>3.1</td>\n",
       "            <td>3</td>\n",
       "            <td>2</td>\n",
       "            <td>f</td>\n",
       "            <td>19</td>\n",
       "        </tr>\n",
       "        <tr>\n",
       "            <td>2</td>\n",
       "            <td>PY411</td>\n",
       "            <td>2.8</td>\n",
       "            <td>4</td>\n",
       "            <td>2</td>\n",
       "            <td>f</td>\n",
       "            <td>19</td>\n",
       "        </tr>\n",
       "        <tr>\n",
       "            <td>2</td>\n",
       "            <td>PY412</td>\n",
       "            <td>2.4</td>\n",
       "            <td>4</td>\n",
       "            <td>2</td>\n",
       "            <td>f</td>\n",
       "            <td>19</td>\n",
       "        </tr>\n",
       "        <tr>\n",
       "            <td>2</td>\n",
       "            <td>E101</td>\n",
       "            <td>2.9</td>\n",
       "            <td>2</td>\n",
       "            <td>2</td>\n",
       "            <td>f</td>\n",
       "            <td>19</td>\n",
       "        </tr>\n",
       "        <tr>\n",
       "            <td>2</td>\n",
       "            <td>CS216</td>\n",
       "            <td>3.3</td>\n",
       "            <td>3</td>\n",
       "            <td>2</td>\n",
       "            <td>f</td>\n",
       "            <td>19</td>\n",
       "        </tr>\n",
       "    </tbody>\n",
       "</table>"
      ],
      "text/plain": [
       "[(1, 'PY205', 3.8, 3, 1, 'm', 22),\n",
       " (1, 'PY411', 3.2, 4, 1, 'm', 22),\n",
       " (1, 'PY412', 3.1, 4, 1, 'm', 22),\n",
       " (1, 'E101', 3.8, 2, 1, 'm', 22),\n",
       " (1, 'CS216', 3.5, 3, 1, 'm', 22),\n",
       " (2, 'PY205', 3.1, 3, 2, 'f', 19),\n",
       " (2, 'PY411', 2.8, 4, 2, 'f', 19),\n",
       " (2, 'PY412', 2.4, 4, 2, 'f', 19),\n",
       " (2, 'E101', 2.9, 2, 2, 'f', 19),\n",
       " (2, 'CS216', 3.3, 3, 2, 'f', 19)]"
      ]
     },
     "execution_count": 25,
     "metadata": {},
     "output_type": "execute_result"
    }
   ],
   "source": [
    "# Query to join grades from students_grades.db and demographics from demo_db\n",
    "%sql SELECT g.*, d.* FROM grades g JOIN demo_db.demographics d ON g.studentid = d.studentid;"
   ]
  },
  {
   "cell_type": "code",
   "execution_count": 17,
   "metadata": {},
   "outputs": [
    {
     "name": "stdout",
     "output_type": "stream",
     "text": [
      "   sqlite:///students_demographics.db\n",
      " * sqlite:///students_grades.db\n",
      "Done.\n"
     ]
    },
    {
     "data": {
      "text/plain": [
       "[]"
      ]
     },
     "execution_count": 17,
     "metadata": {},
     "output_type": "execute_result"
    }
   ],
   "source": [
    "%sql DETACH DATABASE demo_db;"
   ]
  },
  {
   "cell_type": "code",
   "execution_count": 18,
   "metadata": {},
   "outputs": [
    {
     "name": "stdout",
     "output_type": "stream",
     "text": [
      "   sqlite:///students_demographics.db\n",
      " * sqlite:///students_grades.db\n",
      "Done.\n"
     ]
    },
    {
     "data": {
      "text/plain": [
       "[]"
      ]
     },
     "execution_count": 18,
     "metadata": {},
     "output_type": "execute_result"
    }
   ],
   "source": [
    "%sql sqlite:///students_grades.db\n",
    "\n",
    "# Now attach the second database (demographics.db)\n",
    "%sql ATTACH DATABASE 'students_demographics.db' AS demo_db;"
   ]
  },
  {
   "cell_type": "markdown",
   "metadata": {},
   "source": [
    "#### Joins and grouping\n",
    "Joins work with groups just as you'd expect. All joins happen before grouping, so you can get a student's demographic information along with their GPA in one query:"
   ]
  },
  {
   "cell_type": "code",
   "execution_count": 19,
   "metadata": {},
   "outputs": [
    {
     "name": "stdout",
     "output_type": "stream",
     "text": [
      "   sqlite:///students_demographics.db\n",
      " * sqlite:///students_grades.db\n",
      "Done.\n"
     ]
    },
    {
     "data": {
      "text/html": [
       "<table>\n",
       "    <thead>\n",
       "        <tr>\n",
       "            <th>studentid</th>\n",
       "            <th>GPA</th>\n",
       "            <th>gender</th>\n",
       "            <th>age</th>\n",
       "        </tr>\n",
       "    </thead>\n",
       "    <tbody>\n",
       "        <tr>\n",
       "            <td>1</td>\n",
       "            <td>3.41875</td>\n",
       "            <td>m</td>\n",
       "            <td>22</td>\n",
       "        </tr>\n",
       "        <tr>\n",
       "            <td>2</td>\n",
       "            <td>2.8625</td>\n",
       "            <td>f</td>\n",
       "            <td>19</td>\n",
       "        </tr>\n",
       "    </tbody>\n",
       "</table>"
      ],
      "text/plain": [
       "[(1, 3.41875, 'm', 22), (2, 2.8625, 'f', 19)]"
      ]
     },
     "execution_count": 19,
     "metadata": {},
     "output_type": "execute_result"
    }
   ],
   "source": [
    "%%sql SELECT g.studentid, SUM(g.grade*g.credits)/SUM(g.credits) AS GPA, d.gender, d.age\n",
    "    FROM grades g JOIN demo_db.demographics d ON g.studentid=d.studentid\n",
    "    GROUP BY g.studentid;"
   ]
  },
  {
   "cell_type": "markdown",
   "metadata": {},
   "source": [
    "#### Outer joins\n",
    "\n",
    "Left Outer joins are the other join type supported by SQLite. It's not as useful but it's still good to know about it.\n",
    "\n",
    "An inner join as seen above is easy to think about as a simple filter on the cartesian product of two tables. A left outer join, however, is useful when you want to return *every* row on the left-hand table *whether or not* a matching row is found on the right-hand table.\n",
    "\n",
    "Notice the demographics table we created above had a third student in it, but that student wasn't in any of our results, because he didn't match any rows in the grades table.\n",
    "\n",
    "Here's how we can get every student, and if they have one, their GPA:"
   ]
  },
  {
   "cell_type": "code",
   "execution_count": 91,
   "metadata": {},
   "outputs": [
    {
     "name": "stdout",
     "output_type": "stream",
     "text": [
      "   sqlite:///students_demographics.db\n",
      " * sqlite:///students_grades.db\n",
      "Done.\n"
     ]
    },
    {
     "data": {
      "text/html": [
       "<table>\n",
       "    <thead>\n",
       "        <tr>\n",
       "            <th>studentid</th>\n",
       "            <th>GPA</th>\n",
       "            <th>gender</th>\n",
       "            <th>age</th>\n",
       "        </tr>\n",
       "    </thead>\n",
       "    <tbody>\n",
       "        <tr>\n",
       "            <td>3</td>\n",
       "            <td>None</td>\n",
       "            <td>m</td>\n",
       "            <td>20</td>\n",
       "        </tr>\n",
       "        <tr>\n",
       "            <td>1</td>\n",
       "            <td>3.41875</td>\n",
       "            <td>m</td>\n",
       "            <td>22</td>\n",
       "        </tr>\n",
       "        <tr>\n",
       "            <td>2</td>\n",
       "            <td>2.8625</td>\n",
       "            <td>f</td>\n",
       "            <td>19</td>\n",
       "        </tr>\n",
       "    </tbody>\n",
       "</table>"
      ],
      "text/plain": [
       "[(3, None, 'm', 20), (1, 3.41875, 'm', 22), (2, 2.8625, 'f', 19)]"
      ]
     },
     "execution_count": 91,
     "metadata": {},
     "output_type": "execute_result"
    }
   ],
   "source": [
    "%%sql SELECT d.studentid, SUM(g.grade*g.credits)/sum(g.credits) AS GPA, d.gender, d.age\n",
    "    FROM demo_db.demographics d LEFT JOIN grades g ON d.studentid=g.studentid\n",
    "    GROUP BY g.studentid;"
   ]
  },
  {
   "cell_type": "code",
   "execution_count": 26,
   "metadata": {},
   "outputs": [
    {
     "name": "stdout",
     "output_type": "stream",
     "text": [
      "   sqlite:///students_demographics.db\n",
      " * sqlite:///students_grades.db\n",
      "Done.\n"
     ]
    },
    {
     "data": {
      "text/plain": [
       "[]"
      ]
     },
     "execution_count": 26,
     "metadata": {},
     "output_type": "execute_result"
    }
   ],
   "source": [
    "%sql DETACH DATABASE demo_db;"
   ]
  },
  {
   "cell_type": "markdown",
   "metadata": {},
   "source": [
    "And there you have it. Student 3's GPA is left blank because he didn't have any matching courses in the grades table."
   ]
  },
  {
   "cell_type": "markdown",
   "metadata": {},
   "source": [
    "## Advanced Example: HR Database\n",
    "<hr>\n",
    "\n",
    "Suppose that you are creating a HR app for a firm. You have to create a simple database to store the employees' information. However, you want to apply the DRY principle and avoid redundancy in your code. Here is a example on how to create a database and insert data into it.\n",
    "\n",
    "Let's first define a class to handle the database connection and the cursor. "
   ]
  },
  {
   "cell_type": "code",
   "execution_count": 27,
   "metadata": {},
   "outputs": [],
   "source": [
    "class Employee:\n",
    "    \"\"\"A sample Employee class\"\"\"\n",
    "\n",
    "    def __init__(self, first, last, pay):\n",
    "        self.first = first\n",
    "        self.last = last\n",
    "        self.pay = pay\n",
    "\n",
    "    @property\n",
    "    def email(self):\n",
    "        return '{}.{}@email.com'.format(self.first, self.last)\n",
    "\n",
    "    @property\n",
    "    def fullname(self):\n",
    "        return '{} {}'.format(self.first, self.last)\n",
    "\n",
    "    def __repr__(self):\n",
    "        return \"Employee('{}', '{}', {})\".format(self.first, self.last, self.pay)"
   ]
  },
  {
   "cell_type": "code",
   "execution_count": 28,
   "metadata": {},
   "outputs": [
    {
     "data": {
      "text/plain": [
       "<sqlite3.Cursor at 0x733cb0dc1340>"
      ]
     },
     "execution_count": 28,
     "metadata": {},
     "output_type": "execute_result"
    }
   ],
   "source": [
    "#conn = sqlite3.connect(':memory:')\n",
    "conn = sqlite3.connect(\"employees.db\")\n",
    "\n",
    "c = conn.cursor()\n",
    "\n",
    "c.execute(\"\"\"create table employees (\n",
    "            first text,\n",
    "            last text,\n",
    "            pay integer\n",
    "            )\"\"\")"
   ]
  },
  {
   "cell_type": "code",
   "execution_count": 29,
   "metadata": {},
   "outputs": [],
   "source": [
    "def insert_emp(emp):\n",
    "    \"\"\" Insert an employee into the database \"\"\"\n",
    "    with conn:\n",
    "        c.execute(\"INSERT INTO employees VALUES (:first, :last, :pay)\", {'first': emp.first, 'last': emp.last, 'pay': emp.pay})\n",
    "\n",
    "\n",
    "def get_emps_by_name(lastname):\n",
    "    \"\"\" Get employees by last name \"\"\"\n",
    "    c.execute(\"SELECT * FROM employees WHERE last=:last\", {'last': lastname})\n",
    "    return c.fetchall()\n",
    "\n",
    "\n",
    "def update_pay(emp, pay):\n",
    "    \"\"\" Update an employee's pay \"\"\"\n",
    "    with conn:\n",
    "        c.execute(\"\"\"UPDATE employees SET pay = :pay\n",
    "                    WHERE first = :first AND last = :last\"\"\",\n",
    "                  {'first': emp.first, 'last': emp.last, 'pay': pay})\n",
    "\n",
    "\n",
    "def remove_emp(emp):\n",
    "    \"\"\" Remove an employee from the database \"\"\"\n",
    "    with conn:\n",
    "        c.execute(\"DELETE from employees WHERE first = :first AND last = :last\",\n",
    "                  {'first': emp.first, 'last': emp.last})\n"
   ]
  },
  {
   "cell_type": "markdown",
   "metadata": {},
   "source": [
    "Let's add two new emloyees to the database:"
   ]
  },
  {
   "cell_type": "code",
   "execution_count": 30,
   "metadata": {},
   "outputs": [],
   "source": [
    "emp_1 = Employee('John', 'Doe', 80000)\n",
    "emp_2 = Employee('Jane', 'Doe', 90000)"
   ]
  },
  {
   "cell_type": "code",
   "execution_count": 31,
   "metadata": {},
   "outputs": [],
   "source": [
    "insert_emp(emp_1)\n",
    "insert_emp(emp_2)"
   ]
  },
  {
   "cell_type": "code",
   "execution_count": 32,
   "metadata": {},
   "outputs": [
    {
     "name": "stdout",
     "output_type": "stream",
     "text": [
      " * sqlite:///employees.db\n",
      "   sqlite:///students_demographics.db\n",
      "   sqlite:///students_grades.db\n",
      "Done.\n"
     ]
    },
    {
     "data": {
      "text/html": [
       "<table>\n",
       "    <thead>\n",
       "        <tr>\n",
       "            <th>first</th>\n",
       "            <th>last</th>\n",
       "            <th>pay</th>\n",
       "        </tr>\n",
       "    </thead>\n",
       "    <tbody>\n",
       "        <tr>\n",
       "            <td>John</td>\n",
       "            <td>Doe</td>\n",
       "            <td>80000</td>\n",
       "        </tr>\n",
       "        <tr>\n",
       "            <td>Jane</td>\n",
       "            <td>Doe</td>\n",
       "            <td>90000</td>\n",
       "        </tr>\n",
       "    </tbody>\n",
       "</table>"
      ],
      "text/plain": [
       "[('John', 'Doe', 80000), ('Jane', 'Doe', 90000)]"
      ]
     },
     "execution_count": 32,
     "metadata": {},
     "output_type": "execute_result"
    }
   ],
   "source": [
    "%sql sqlite:///employees.db\n",
    "%sql SELECT * FROM employees;"
   ]
  },
  {
   "cell_type": "markdown",
   "metadata": {},
   "source": [
    "Search employees by name Doe in the database:"
   ]
  },
  {
   "cell_type": "code",
   "execution_count": 33,
   "metadata": {},
   "outputs": [
    {
     "name": "stdout",
     "output_type": "stream",
     "text": [
      "[('John', 'Doe', 80000), ('Jane', 'Doe', 90000)]\n"
     ]
    }
   ],
   "source": [
    "emps = get_emps_by_name('Doe')\n",
    "print(emps)"
   ]
  },
  {
   "cell_type": "markdown",
   "metadata": {},
   "source": [
    "Do some updates in the database:"
   ]
  },
  {
   "cell_type": "code",
   "execution_count": 34,
   "metadata": {},
   "outputs": [
    {
     "name": "stdout",
     "output_type": "stream",
     "text": [
      " * sqlite:///employees.db\n",
      "   sqlite:///students_demographics.db\n",
      "   sqlite:///students_grades.db\n",
      "Done.\n"
     ]
    },
    {
     "data": {
      "text/html": [
       "<table>\n",
       "    <thead>\n",
       "        <tr>\n",
       "            <th>first</th>\n",
       "            <th>last</th>\n",
       "            <th>pay</th>\n",
       "        </tr>\n",
       "    </thead>\n",
       "    <tbody>\n",
       "        <tr>\n",
       "            <td>John</td>\n",
       "            <td>Doe</td>\n",
       "            <td>80000</td>\n",
       "        </tr>\n",
       "        <tr>\n",
       "            <td>Jane</td>\n",
       "            <td>Doe</td>\n",
       "            <td>95000</td>\n",
       "        </tr>\n",
       "    </tbody>\n",
       "</table>"
      ],
      "text/plain": [
       "[('John', 'Doe', 80000), ('Jane', 'Doe', 95000)]"
      ]
     },
     "execution_count": 34,
     "metadata": {},
     "output_type": "execute_result"
    }
   ],
   "source": [
    "update_pay(emp_2, 95000)\n",
    "\n",
    "%sql SELECT * FROM employees;"
   ]
  },
  {
   "cell_type": "code",
   "execution_count": 35,
   "metadata": {},
   "outputs": [
    {
     "name": "stdout",
     "output_type": "stream",
     "text": [
      "[('Jane', 'Doe', 95000)]\n",
      " * sqlite:///employees.db\n",
      "   sqlite:///students_demographics.db\n",
      "   sqlite:///students_grades.db\n",
      "Done.\n"
     ]
    },
    {
     "data": {
      "text/html": [
       "<table>\n",
       "    <thead>\n",
       "        <tr>\n",
       "            <th>first</th>\n",
       "            <th>last</th>\n",
       "            <th>pay</th>\n",
       "        </tr>\n",
       "    </thead>\n",
       "    <tbody>\n",
       "        <tr>\n",
       "            <td>Jane</td>\n",
       "            <td>Doe</td>\n",
       "            <td>95000</td>\n",
       "        </tr>\n",
       "    </tbody>\n",
       "</table>"
      ],
      "text/plain": [
       "[('Jane', 'Doe', 95000)]"
      ]
     },
     "execution_count": 35,
     "metadata": {},
     "output_type": "execute_result"
    }
   ],
   "source": [
    "remove_emp(emp_1)\n",
    "emps = get_emps_by_name('Doe')\n",
    "print(emps)\n",
    "\n",
    "%sql SELECT * FROM employees;"
   ]
  },
  {
   "cell_type": "code",
   "execution_count": 36,
   "metadata": {},
   "outputs": [],
   "source": [
    "conn.close()"
   ]
  },
  {
   "cell_type": "markdown",
   "metadata": {},
   "source": [
    "# <center>Thank you!<a class=\"tocSkip\"></center>\n",
    "***"
   ]
  }
 ],
 "metadata": {
  "kernelspec": {
   "display_name": "Python 3",
   "language": "python",
   "name": "python3"
  },
  "language_info": {
   "codemirror_mode": {
    "name": "ipython",
    "version": 3
   },
   "file_extension": ".py",
   "mimetype": "text/x-python",
   "name": "python",
   "nbconvert_exporter": "python",
   "pygments_lexer": "ipython3",
   "version": "3.12.6"
  }
 },
 "nbformat": 4,
 "nbformat_minor": 2
}
