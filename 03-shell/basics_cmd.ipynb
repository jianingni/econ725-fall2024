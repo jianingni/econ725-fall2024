{
 "cells": [
  {
   "cell_type": "markdown",
   "metadata": {},
   "source": [
    "# <center>ECON 725: Computer Programming and Data Management in Economics <a class=\"tocSkip\"></center>    \n",
    "# <center>Basics of Command Line<a class=\"tocSkip\"></center>\n",
    " ---    "
   ]
  },
  {
   "cell_type": "markdown",
   "metadata": {},
   "source": [
    "## About\n",
    "\n",
    "The document offers a short guide on utilizing Command Line effectively for data science projects.<a name=\"cite_ref-1\"></a>[<sup>[1]</sup>](#cite_note-1)"
   ]
  },
  {
   "cell_type": "markdown",
   "metadata": {},
   "source": [
    "# Why the Command Line?\n",
    "\n",
    "\n",
    "When we are introduced to computers, we are often driven towards point-and-click usability. These are called **Graphical user interfaces (GUIs)**. \n",
    "GUIs are great for many tasks, but they are not good for all tasks.  GUIs work for what they were developed for. In that sense, \n",
    "it limits the way you interact with your computer condinational on the original development of the GUI at hand. If you need more, \n",
    "you need to speak directly to your operation system\n",
    "\n",
    "The **command line (CLI)** is a program that allows you to interact directly with your operating system. \n",
    "So by using the command line, you have more control over all programs run by your machine. From the command line, \n",
    "you can run scripts, call programs like `Python` and `R` directly, and build all sorts of data pipelines. Also, you can interact with virtual machines in the cloud.\n",
    "\n",
    "The CLI will help us:\n",
    "\n",
    "1. Understand file paths on your computer \n",
    "2. Serves as a common hub from which to work\n",
    "3. Allow for us to generate reproducible coding sequences (via running scripts)\n",
    "4. Streamline workflow\n",
    "    + set projects up\n",
    "    + work between languages\n",
    "    + batch process heavy loads\n",
    "5. Vital when speaking to a computing cluster, working on a virtual machine, or ssh-ing into a local computer - SSH, or Secure Shell, is a \n",
    "protocol used to securely access and manage a computer remotely.\n",
    "\n",
    "\n",
    "**Important:** All this will come with time, and you will not finish the course as an expert in CLI.  The reason we start the course covering this 101 tool is that the command line will feature into our discussion on using git and also running `Python`  and `R` scripts in cloud environments (e.g., Github Codespaces).  \n",
    "\n",
    "\n",
    "## Accessing the Command Line\n",
    "\n",
    "**The \"command line\" line can differ, however, given what machine you're running.** \n",
    "\n",
    "- If you're on a **Mac** a unix command line comes installed on your machine. This is your `terminal`, which is an application available on all macs. \n",
    "\n",
    "- If you're on a **Windows** machine, you'll need to activate your Ubuntu terminal by turning on the developer mode on your computer. Instructions on how to do that can be found [**here**](https://www.windowscentral.com/how-install-bash-shell-command-line-windows-10). (Note that there are also other alternatives, such as [**putty**](https://www.chiark.greenend.org.uk/~sgtatham/putty/))\n",
    "\n",
    "For a more in-depth overview of the potential of Unix command line, see [The Linux Command Line by William Shotts](http://linuxcommand.org/tlcl.php)"
   ]
  },
  {
   "cell_type": "markdown",
   "metadata": {},
   "source": [
    "## Basic command line commands\n",
    "\n",
    "The following outlines a few common commands that will be useful as you move forward. \n",
    "\n",
    "**Disclaimer**: some of these commands may differ given your operating system, but it's only quick Google/GPT search to find out how things are done on your machine.\n",
    "\n",
    "- `pwd`: check working directory\n",
    "- `cd <path>`: change working directory\n",
    "    + `cd ..`: go back to the last directory\n",
    "    + `cd ~ `: go to home directory\n",
    "    + `cd -`: go back to where you once where\n",
    "- `ls`: list all files in the working directory\n",
    "- `mkdir <dir name>`: make a directory\n",
    "- `mv <old path> <new path>`: move file from old path to new path\n",
    "- `cp <old path> <new path>`: copy file from old path to new path\n",
    "- `ctr + c`: stops current execution.\n",
    "- `cat <file>`: print the entire file\n",
    "- `head`: view the start of a file to some $N$ number of lines\n",
    "    - `head -n 3 file`\n",
    "- `tail`: view the end of a file to some $N$ number of lines\n",
    "    - `tail -n 3 file`\n",
    "\n",
    "- Making a file:\n",
    "    - `touch <file name>`\n",
    "    - `echo 'text' > file`\n",
    "        \n",
    "- Renaming a File:\n",
    "    - `mv <old file name> <new file name>`\n",
    "    \n",
    "- Asking for help:\n",
    "    - `man <command name>`\n",
    "    - `<command name> -h`"
   ]
  },
  {
   "cell_type": "markdown",
   "metadata": {},
   "source": [
    "<a name=\"cite_note-1\"></a>1. [^](#cite_ref-1): This document was originally developed by [Professor Tiago Ventura](https://www.venturatiago.com/) and adapted to our courses purposes. "
   ]
  }
 ],
 "metadata": {
  "kernelspec": {
   "display_name": "causal_ml_python",
   "language": "python",
   "name": "python3"
  },
  "language_info": {
   "codemirror_mode": {
    "name": "ipython",
    "version": 3
   },
   "file_extension": ".py",
   "mimetype": "text/x-python",
   "name": "python",
   "nbconvert_exporter": "python",
   "pygments_lexer": "ipython3",
   "version": "3.10.13"
  }
 },
 "nbformat": 4,
 "nbformat_minor": 2
}
